{
  "nbformat": 4,
  "nbformat_minor": 0,
  "metadata": {
    "colab": {
      "provenance": []
    },
    "kernelspec": {
      "name": "python3",
      "display_name": "Python 3"
    },
    "language_info": {
      "name": "python"
    }
  },
  "cells": [
    {
      "cell_type": "markdown",
      "source": [
        "#**Capstone 2: Lending Club - Modeling**"
      ],
      "metadata": {
        "id": "iGttl7kccgrV"
      }
    },
    {
      "cell_type": "markdown",
      "source": [
        "Previously, in the \"Capstone Two - Preprocessing and Training\" notebook, we utilized Auto-Gluon to generate a quick sample of optimized models to see which would perform the best. Without knowing what exact hyperparameters were used, we handpicked several models that performed well on Auto-Gluon as a direction for which models to start building. \n",
        "\n",
        "5 Models from Auto-gluon\n",
        "1. Dummy Regressor \n",
        "2. Linear Regression\n",
        "3. XGBoost \n",
        "4. RandomForests \n",
        "5. Decision Tree\n",
        "\n",
        "The purpose of this notebook is to explore various models and determine the one that performs the best in predicting our dependent variable using statistical metrics.\n",
        "\n",
        "This is a regression problem; we are utilizing loan data to predict a non-binary numerical feature's value:\"interest_rate\". From my data analysis, the best model for predicting our dependent variable \"interest_rate\" is a XGBoost Regressor model. Below you'll find the works that lead to this conclusion."
      ],
      "metadata": {
        "id": "TBupHJkZcuG8"
      }
    },
    {
      "cell_type": "markdown",
      "source": [
        "#**Importing the necessary packages**\n"
      ],
      "metadata": {
        "id": "jO7XFdahbmvo"
      }
    },
    {
      "cell_type": "code",
      "source": [
        "#import of necessary packages \n",
        "#need the LinearRegression Model\n",
        "#import the 5 models\n",
        "#import gridsearchCV show \n",
        "\n",
        "import pandas as pd\n",
        "import numpy as np\n",
        "import os\n",
        "import pickle\n",
        "import matplotlib.pyplot as plt\n",
        "import seaborn as sns\n",
        "\n",
        "#statistical measures for model performance\n",
        "from sklearn.metrics import r2_score, mean_squared_error, mean_absolute_error\n",
        "\n",
        "#Hyperparameter tunings\n",
        "from sklearn.model_selection import train_test_split, cross_validate, GridSearchCV, learning_curve\n",
        "\n",
        "#Regression models\n",
        "from sklearn.dummy import DummyRegressor\n",
        "from sklearn.linear_model import LinearRegression\n",
        "from sklearn.ensemble import RandomForestRegressor\n",
        "from sklearn.ensemble import GradientBoostingRegressor\n",
        "from xgboost import XGBRegressor\n",
        "from sklearn.tree import DecisionTreeRegressor\n",
        "import lightgbm as lgb\n",
        "\n",
        "from sklearn.utils import all_estimators\n",
        "from sklearn.base import RegressorMixin\n",
        "\n",
        "from sb_utils import save_file"
      ],
      "metadata": {
        "id": "IbXYjA6Lcm6b"
      },
      "execution_count": 20,
      "outputs": []
    },
    {
      "cell_type": "markdown",
      "source": [
        "#**Importing our training and testing data sets**"
      ],
      "metadata": {
        "id": "osh7XQciOWX3"
      }
    },
    {
      "cell_type": "markdown",
      "source": [
        "Grabbing our training and testing data files from our previous notebook \"Capstone Two - Pre-processing and Training\"."
      ],
      "metadata": {
        "id": "dKkXSUi2OYET"
      }
    },
    {
      "cell_type": "code",
      "source": [
        "y_train = pd.read_csv('y_train.csv')\n",
        "y_test = pd.read_csv('y_test.csv')\n",
        "X_train_scaled = pd.read_csv('X_train_scaled.csv')\n",
        "X_test_scaled = pd.read_csv('X_test_scaled.csv')"
      ],
      "metadata": {
        "id": "mp1D1mlUdvQi"
      },
      "execution_count": 2,
      "outputs": []
    },
    {
      "cell_type": "markdown",
      "source": [
        "#**Generating a base Dataframe to track our model performance**"
      ],
      "metadata": {
        "id": "ZSaJgOVsOGTl"
      }
    },
    {
      "cell_type": "code",
      "source": [
        "results_df = pd.DataFrame(columns=['Model', 'R_Squared_train', 'R_Squared_test', 'R_Squared_Adj_train','R_Squared_Adj_test', 'RMSE', 'MAE'])"
      ],
      "metadata": {
        "id": "5KbfyjrAOCQx"
      },
      "execution_count": 3,
      "outputs": []
    },
    {
      "cell_type": "markdown",
      "source": [
        "#**Dummy Regression Model (median)**"
      ],
      "metadata": {
        "id": "22q7J_uIKdxB"
      }
    },
    {
      "cell_type": "markdown",
      "source": [
        "Based off our plots of the data in EDA, we saw that alot of the graphs of individual independent variables were not evenly distributed/ had displayed characteristics of skewedness. Thus approaching forward generating a dummy model using the strategy \"median\" is more appropriate than \"mean\", due to potential negative influences from outliers.\n",
        "\n"
      ],
      "metadata": {
        "id": "q8hE9XSUKgPq"
      }
    },
    {
      "cell_type": "code",
      "source": [
        "#How Good is the Median?\n",
        "#Generating a model that just predicts the median interest rate from the training set\n",
        "train_median = y_train.median()\n",
        "train_median"
      ],
      "metadata": {
        "colab": {
          "base_uri": "https://localhost:8080/"
        },
        "id": "6GALlgX5KfvX",
        "outputId": "752256c9-5e94-417c-ea2f-f9e42e430de8"
      },
      "execution_count": 4,
      "outputs": [
        {
          "output_type": "execute_result",
          "data": {
            "text/plain": [
              "interest_rate    0.1189\n",
              "dtype: float64"
            ]
          },
          "metadata": {},
          "execution_count": 4
        }
      ]
    },
    {
      "cell_type": "code",
      "source": [
        "#Using dummregressor based on the median\n",
        "#due to the data possibly having outliers, we used the median\n",
        "dumb_reg_median = DummyRegressor(strategy='median')\n",
        "dumb_reg_median.fit(X_train_scaled, y_train)"
      ],
      "metadata": {
        "colab": {
          "base_uri": "https://localhost:8080/",
          "height": 74
        },
        "id": "NEUIK5ZyKc4T",
        "outputId": "b926c789-b938-4a4c-a753-a6c8e3201394"
      },
      "execution_count": 5,
      "outputs": [
        {
          "output_type": "execute_result",
          "data": {
            "text/plain": [
              "DummyRegressor(strategy='median')"
            ],
            "text/html": [
              "<style>#sk-container-id-1 {color: black;background-color: white;}#sk-container-id-1 pre{padding: 0;}#sk-container-id-1 div.sk-toggleable {background-color: white;}#sk-container-id-1 label.sk-toggleable__label {cursor: pointer;display: block;width: 100%;margin-bottom: 0;padding: 0.3em;box-sizing: border-box;text-align: center;}#sk-container-id-1 label.sk-toggleable__label-arrow:before {content: \"▸\";float: left;margin-right: 0.25em;color: #696969;}#sk-container-id-1 label.sk-toggleable__label-arrow:hover:before {color: black;}#sk-container-id-1 div.sk-estimator:hover label.sk-toggleable__label-arrow:before {color: black;}#sk-container-id-1 div.sk-toggleable__content {max-height: 0;max-width: 0;overflow: hidden;text-align: left;background-color: #f0f8ff;}#sk-container-id-1 div.sk-toggleable__content pre {margin: 0.2em;color: black;border-radius: 0.25em;background-color: #f0f8ff;}#sk-container-id-1 input.sk-toggleable__control:checked~div.sk-toggleable__content {max-height: 200px;max-width: 100%;overflow: auto;}#sk-container-id-1 input.sk-toggleable__control:checked~label.sk-toggleable__label-arrow:before {content: \"▾\";}#sk-container-id-1 div.sk-estimator input.sk-toggleable__control:checked~label.sk-toggleable__label {background-color: #d4ebff;}#sk-container-id-1 div.sk-label input.sk-toggleable__control:checked~label.sk-toggleable__label {background-color: #d4ebff;}#sk-container-id-1 input.sk-hidden--visually {border: 0;clip: rect(1px 1px 1px 1px);clip: rect(1px, 1px, 1px, 1px);height: 1px;margin: -1px;overflow: hidden;padding: 0;position: absolute;width: 1px;}#sk-container-id-1 div.sk-estimator {font-family: monospace;background-color: #f0f8ff;border: 1px dotted black;border-radius: 0.25em;box-sizing: border-box;margin-bottom: 0.5em;}#sk-container-id-1 div.sk-estimator:hover {background-color: #d4ebff;}#sk-container-id-1 div.sk-parallel-item::after {content: \"\";width: 100%;border-bottom: 1px solid gray;flex-grow: 1;}#sk-container-id-1 div.sk-label:hover label.sk-toggleable__label {background-color: #d4ebff;}#sk-container-id-1 div.sk-serial::before {content: \"\";position: absolute;border-left: 1px solid gray;box-sizing: border-box;top: 0;bottom: 0;left: 50%;z-index: 0;}#sk-container-id-1 div.sk-serial {display: flex;flex-direction: column;align-items: center;background-color: white;padding-right: 0.2em;padding-left: 0.2em;position: relative;}#sk-container-id-1 div.sk-item {position: relative;z-index: 1;}#sk-container-id-1 div.sk-parallel {display: flex;align-items: stretch;justify-content: center;background-color: white;position: relative;}#sk-container-id-1 div.sk-item::before, #sk-container-id-1 div.sk-parallel-item::before {content: \"\";position: absolute;border-left: 1px solid gray;box-sizing: border-box;top: 0;bottom: 0;left: 50%;z-index: -1;}#sk-container-id-1 div.sk-parallel-item {display: flex;flex-direction: column;z-index: 1;position: relative;background-color: white;}#sk-container-id-1 div.sk-parallel-item:first-child::after {align-self: flex-end;width: 50%;}#sk-container-id-1 div.sk-parallel-item:last-child::after {align-self: flex-start;width: 50%;}#sk-container-id-1 div.sk-parallel-item:only-child::after {width: 0;}#sk-container-id-1 div.sk-dashed-wrapped {border: 1px dashed gray;margin: 0 0.4em 0.5em 0.4em;box-sizing: border-box;padding-bottom: 0.4em;background-color: white;}#sk-container-id-1 div.sk-label label {font-family: monospace;font-weight: bold;display: inline-block;line-height: 1.2em;}#sk-container-id-1 div.sk-label-container {text-align: center;}#sk-container-id-1 div.sk-container {/* jupyter's `normalize.less` sets `[hidden] { display: none; }` but bootstrap.min.css set `[hidden] { display: none !important; }` so we also need the `!important` here to be able to override the default hidden behavior on the sphinx rendered scikit-learn.org. See: https://github.com/scikit-learn/scikit-learn/issues/21755 */display: inline-block !important;position: relative;}#sk-container-id-1 div.sk-text-repr-fallback {display: none;}</style><div id=\"sk-container-id-1\" class=\"sk-top-container\"><div class=\"sk-text-repr-fallback\"><pre>DummyRegressor(strategy=&#x27;median&#x27;)</pre><b>In a Jupyter environment, please rerun this cell to show the HTML representation or trust the notebook. <br />On GitHub, the HTML representation is unable to render, please try loading this page with nbviewer.org.</b></div><div class=\"sk-container\" hidden><div class=\"sk-item\"><div class=\"sk-estimator sk-toggleable\"><input class=\"sk-toggleable__control sk-hidden--visually\" id=\"sk-estimator-id-1\" type=\"checkbox\" checked><label for=\"sk-estimator-id-1\" class=\"sk-toggleable__label sk-toggleable__label-arrow\">DummyRegressor</label><div class=\"sk-toggleable__content\"><pre>DummyRegressor(strategy=&#x27;median&#x27;)</pre></div></div></div></div></div>"
            ]
          },
          "metadata": {},
          "execution_count": 5
        }
      ]
    },
    {
      "cell_type": "code",
      "source": [
        "#predicting on X_train data on dummy model based on guessing only training data's mean\n",
        "y_tr_predict_median = dumb_reg_median.predict(X_train_scaled)"
      ],
      "metadata": {
        "id": "oXsXTt-dKyYr"
      },
      "execution_count": 6,
      "outputs": []
    },
    {
      "cell_type": "code",
      "source": [
        "#predicting testing data on dummy model based on guessing only training data's mean\n",
        "y_te_predict_median = dumb_reg_median.predict(X_test_scaled)"
      ],
      "metadata": {
        "id": "jgBAkjoDK0kV"
      },
      "execution_count": 7,
      "outputs": []
    },
    {
      "cell_type": "code",
      "source": [
        "y_te_predict_median[:5]"
      ],
      "metadata": {
        "colab": {
          "base_uri": "https://localhost:8080/"
        },
        "id": "OiQoj2R5K1-m",
        "outputId": "2c2f9592-a4ca-4a45-cc56-068b6ffd82f2"
      },
      "execution_count": 8,
      "outputs": [
        {
          "output_type": "execute_result",
          "data": {
            "text/plain": [
              "array([0.1189, 0.1189, 0.1189, 0.1189, 0.1189])"
            ]
          },
          "metadata": {},
          "execution_count": 8
        }
      ]
    },
    {
      "cell_type": "code",
      "source": [
        "#Using the Coefficient of determination to determine how well this model performed\n",
        "# R^2 = 0 should be what we see\n",
        "# R^2 < 0 means model did worse than predicting the median\n",
        "# R^2 = 1 means that the model predicted all the test values without error\n",
        "#Calculating Coefficient of determinination on training model using median as the guess\n",
        "dumb_reg_median.score(X_train_scaled, y_train)"
      ],
      "metadata": {
        "colab": {
          "base_uri": "https://localhost:8080/"
        },
        "id": "x3P6SDsGK4W9",
        "outputId": "44782978-e430-40cb-a087-b7cec9d7cfa4"
      },
      "execution_count": 9,
      "outputs": [
        {
          "output_type": "execute_result",
          "data": {
            "text/plain": [
              "-6.127241931608296e-07"
            ]
          },
          "metadata": {},
          "execution_count": 9
        }
      ]
    },
    {
      "cell_type": "code",
      "source": [
        "dumb_reg_median.score(X_test_scaled, y_test)"
      ],
      "metadata": {
        "colab": {
          "base_uri": "https://localhost:8080/"
        },
        "id": "vGeZFp9JK5Jz",
        "outputId": "d4ffaad0-8c1e-464f-a6d7-777db9bccd9c"
      },
      "execution_count": 10,
      "outputs": [
        {
          "output_type": "execute_result",
          "data": {
            "text/plain": [
              "-0.00047817956077511603"
            ]
          },
          "metadata": {},
          "execution_count": 10
        }
      ]
    },
    {
      "cell_type": "code",
      "source": [
        "model = \"Dummy Regressor (Median)\"\n",
        "\n",
        "mae = round(mean_absolute_error(y_test,y_te_predict_median),4)\n",
        "rmse = round(np.sqrt(mean_squared_error(y_test,y_te_predict_median)),4)\n",
        "\n",
        "r2_train = r2_score(y_train, y_tr_predict_median)\n",
        "r2_test = r2_score(y_test, y_te_predict_median)\n",
        "r2_adj_train = (1 - (1 - r2_train) * (X_train_scaled.shape[0] - 1) / (X_train_scaled.shape[0] - X_train_scaled.shape[1] - 1))\n",
        "r2_adj_test = (1 - (1 - r2_test) * (X_test_scaled.shape[0] - 1) / (X_test_scaled.shape[0] - X_test_scaled.shape[1] - 1))\n",
        "\n",
        "results_df = results_df.append({'Model': model, 'R_Squared_train': r2_train, 'R_Squared_test': r2_test,'R_Squared_Adj_train': r2_adj_train, 'R_Squared_Adj_test': r2_adj_test, \n",
        "                                'RMSE': rmse, 'MAE': mae}, ignore_index=True)\n",
        "\n",
        "results_df"
      ],
      "metadata": {
        "colab": {
          "base_uri": "https://localhost:8080/",
          "height": 135
        },
        "id": "UJGUCWSST3Mm",
        "outputId": "d5275a98-820c-4449-c5c2-d1be383c3f22"
      },
      "execution_count": 11,
      "outputs": [
        {
          "output_type": "stream",
          "name": "stderr",
          "text": [
            "<ipython-input-11-1f8b2c3165b4>:11: FutureWarning: The frame.append method is deprecated and will be removed from pandas in a future version. Use pandas.concat instead.\n",
            "  results_df = results_df.append({'Model': model, 'R_Squared_train': r2_train, 'R_Squared_test': r2_test,'R_Squared_Adj_train': r2_adj_train, 'R_Squared_Adj_test': r2_adj_test,\n"
          ]
        },
        {
          "output_type": "execute_result",
          "data": {
            "text/plain": [
              "                      Model  R_Squared_train  R_Squared_test  \\\n",
              "0  Dummy Regressor (Median)    -6.127242e-07       -0.000478   \n",
              "\n",
              "   R_Squared_Adj_train  R_Squared_Adj_test    RMSE     MAE  \n",
              "0            -0.003534           -0.008768  0.0244  0.0194  "
            ],
            "text/html": [
              "\n",
              "  <div id=\"df-36d7cfe3-368e-4d4e-8a90-6440d5168ea7\">\n",
              "    <div class=\"colab-df-container\">\n",
              "      <div>\n",
              "<style scoped>\n",
              "    .dataframe tbody tr th:only-of-type {\n",
              "        vertical-align: middle;\n",
              "    }\n",
              "\n",
              "    .dataframe tbody tr th {\n",
              "        vertical-align: top;\n",
              "    }\n",
              "\n",
              "    .dataframe thead th {\n",
              "        text-align: right;\n",
              "    }\n",
              "</style>\n",
              "<table border=\"1\" class=\"dataframe\">\n",
              "  <thead>\n",
              "    <tr style=\"text-align: right;\">\n",
              "      <th></th>\n",
              "      <th>Model</th>\n",
              "      <th>R_Squared_train</th>\n",
              "      <th>R_Squared_test</th>\n",
              "      <th>R_Squared_Adj_train</th>\n",
              "      <th>R_Squared_Adj_test</th>\n",
              "      <th>RMSE</th>\n",
              "      <th>MAE</th>\n",
              "    </tr>\n",
              "  </thead>\n",
              "  <tbody>\n",
              "    <tr>\n",
              "      <th>0</th>\n",
              "      <td>Dummy Regressor (Median)</td>\n",
              "      <td>-6.127242e-07</td>\n",
              "      <td>-0.000478</td>\n",
              "      <td>-0.003534</td>\n",
              "      <td>-0.008768</td>\n",
              "      <td>0.0244</td>\n",
              "      <td>0.0194</td>\n",
              "    </tr>\n",
              "  </tbody>\n",
              "</table>\n",
              "</div>\n",
              "      <button class=\"colab-df-convert\" onclick=\"convertToInteractive('df-36d7cfe3-368e-4d4e-8a90-6440d5168ea7')\"\n",
              "              title=\"Convert this dataframe to an interactive table.\"\n",
              "              style=\"display:none;\">\n",
              "        \n",
              "  <svg xmlns=\"http://www.w3.org/2000/svg\" height=\"24px\"viewBox=\"0 0 24 24\"\n",
              "       width=\"24px\">\n",
              "    <path d=\"M0 0h24v24H0V0z\" fill=\"none\"/>\n",
              "    <path d=\"M18.56 5.44l.94 2.06.94-2.06 2.06-.94-2.06-.94-.94-2.06-.94 2.06-2.06.94zm-11 1L8.5 8.5l.94-2.06 2.06-.94-2.06-.94L8.5 2.5l-.94 2.06-2.06.94zm10 10l.94 2.06.94-2.06 2.06-.94-2.06-.94-.94-2.06-.94 2.06-2.06.94z\"/><path d=\"M17.41 7.96l-1.37-1.37c-.4-.4-.92-.59-1.43-.59-.52 0-1.04.2-1.43.59L10.3 9.45l-7.72 7.72c-.78.78-.78 2.05 0 2.83L4 21.41c.39.39.9.59 1.41.59.51 0 1.02-.2 1.41-.59l7.78-7.78 2.81-2.81c.8-.78.8-2.07 0-2.86zM5.41 20L4 18.59l7.72-7.72 1.47 1.35L5.41 20z\"/>\n",
              "  </svg>\n",
              "      </button>\n",
              "      \n",
              "  <style>\n",
              "    .colab-df-container {\n",
              "      display:flex;\n",
              "      flex-wrap:wrap;\n",
              "      gap: 12px;\n",
              "    }\n",
              "\n",
              "    .colab-df-convert {\n",
              "      background-color: #E8F0FE;\n",
              "      border: none;\n",
              "      border-radius: 50%;\n",
              "      cursor: pointer;\n",
              "      display: none;\n",
              "      fill: #1967D2;\n",
              "      height: 32px;\n",
              "      padding: 0 0 0 0;\n",
              "      width: 32px;\n",
              "    }\n",
              "\n",
              "    .colab-df-convert:hover {\n",
              "      background-color: #E2EBFA;\n",
              "      box-shadow: 0px 1px 2px rgba(60, 64, 67, 0.3), 0px 1px 3px 1px rgba(60, 64, 67, 0.15);\n",
              "      fill: #174EA6;\n",
              "    }\n",
              "\n",
              "    [theme=dark] .colab-df-convert {\n",
              "      background-color: #3B4455;\n",
              "      fill: #D2E3FC;\n",
              "    }\n",
              "\n",
              "    [theme=dark] .colab-df-convert:hover {\n",
              "      background-color: #434B5C;\n",
              "      box-shadow: 0px 1px 3px 1px rgba(0, 0, 0, 0.15);\n",
              "      filter: drop-shadow(0px 1px 2px rgba(0, 0, 0, 0.3));\n",
              "      fill: #FFFFFF;\n",
              "    }\n",
              "  </style>\n",
              "\n",
              "      <script>\n",
              "        const buttonEl =\n",
              "          document.querySelector('#df-36d7cfe3-368e-4d4e-8a90-6440d5168ea7 button.colab-df-convert');\n",
              "        buttonEl.style.display =\n",
              "          google.colab.kernel.accessAllowed ? 'block' : 'none';\n",
              "\n",
              "        async function convertToInteractive(key) {\n",
              "          const element = document.querySelector('#df-36d7cfe3-368e-4d4e-8a90-6440d5168ea7');\n",
              "          const dataTable =\n",
              "            await google.colab.kernel.invokeFunction('convertToInteractive',\n",
              "                                                     [key], {});\n",
              "          if (!dataTable) return;\n",
              "\n",
              "          const docLinkHtml = 'Like what you see? Visit the ' +\n",
              "            '<a target=\"_blank\" href=https://colab.research.google.com/notebooks/data_table.ipynb>data table notebook</a>'\n",
              "            + ' to learn more about interactive tables.';\n",
              "          element.innerHTML = '';\n",
              "          dataTable['output_type'] = 'display_data';\n",
              "          await google.colab.output.renderOutput(dataTable, element);\n",
              "          const docLink = document.createElement('div');\n",
              "          docLink.innerHTML = docLinkHtml;\n",
              "          element.appendChild(docLink);\n",
              "        }\n",
              "      </script>\n",
              "    </div>\n",
              "  </div>\n",
              "  "
            ]
          },
          "metadata": {},
          "execution_count": 11
        }
      ]
    },
    {
      "cell_type": "markdown",
      "source": [
        "Based on the results from the dummy regressor model using the median strategy, we see that the model has approximately an expected result of 0. When you predict the coefficient of determination on the training data using a regression model that predicts the training data's median for outputs with regards to each input, you expect 0. It's normal that the coefficient of determination for the testing data would perform slightly worse."
      ],
      "metadata": {
        "id": "Nrm4RmJQK857"
      }
    },
    {
      "cell_type": "markdown",
      "source": [
        "#**Linear Regression**"
      ],
      "metadata": {
        "id": "d9dXDekuYHgQ"
      }
    },
    {
      "cell_type": "code",
      "source": [
        "#Training the model\n",
        "lm = LinearRegression().fit(X_train_scaled, y_train)"
      ],
      "metadata": {
        "id": "61ZKpesVK6gt"
      },
      "execution_count": 12,
      "outputs": []
    },
    {
      "cell_type": "code",
      "source": [
        "#generating predictions on the scaled training data!\n",
        "y_tr_pred = lm.predict(X_train_scaled)\n",
        "y_te_pred = lm.predict(X_test_scaled)"
      ],
      "metadata": {
        "id": "0js7AW5XYOUt"
      },
      "execution_count": 13,
      "outputs": []
    },
    {
      "cell_type": "code",
      "source": [
        "#First Calculating \"CoD\" on training data\n",
        "#We need to make sure we're using the scale version of our independent variables\n",
        "lm.score(X_train_scaled, y_train)"
      ],
      "metadata": {
        "colab": {
          "base_uri": "https://localhost:8080/"
        },
        "id": "D5KwxckgYPRG",
        "outputId": "6215bfcf-34b0-4bd0-fa62-658c8dfb3b0b"
      },
      "execution_count": 14,
      "outputs": [
        {
          "output_type": "execute_result",
          "data": {
            "text/plain": [
              "0.6909249231774082"
            ]
          },
          "metadata": {},
          "execution_count": 14
        }
      ]
    },
    {
      "cell_type": "code",
      "source": [
        "y_train.shape, y_tr_pred.shape"
      ],
      "metadata": {
        "colab": {
          "base_uri": "https://localhost:8080/"
        },
        "id": "w-ijWd53YPiQ",
        "outputId": "212a00c4-1ccf-4521-a103-6287086e8e5f"
      },
      "execution_count": 15,
      "outputs": [
        {
          "output_type": "execute_result",
          "data": {
            "text/plain": [
              "((5397, 1), (5397, 1))"
            ]
          },
          "metadata": {},
          "execution_count": 15
        }
      ]
    },
    {
      "cell_type": "code",
      "source": [
        "#Calculating \"CoD\" on testing Data\n",
        "lm.score(X_test_scaled, y_test)"
      ],
      "metadata": {
        "colab": {
          "base_uri": "https://localhost:8080/"
        },
        "id": "14oh59mGYPr4",
        "outputId": "cf2c9a29-688d-4aad-861d-5a6c5efbad75"
      },
      "execution_count": 16,
      "outputs": [
        {
          "output_type": "execute_result",
          "data": {
            "text/plain": [
              "0.6741315546902478"
            ]
          },
          "metadata": {},
          "execution_count": 16
        }
      ]
    },
    {
      "cell_type": "code",
      "source": [
        "y_test.shape, y_te_pred.shape"
      ],
      "metadata": {
        "colab": {
          "base_uri": "https://localhost:8080/"
        },
        "id": "CNaNBYcNYWO_",
        "outputId": "53bc0775-ae85-498e-93c2-899c9881f728"
      },
      "execution_count": 17,
      "outputs": [
        {
          "output_type": "execute_result",
          "data": {
            "text/plain": [
              "((2313, 1), (2313, 1))"
            ]
          },
          "metadata": {},
          "execution_count": 17
        }
      ]
    },
    {
      "cell_type": "code",
      "source": [
        "model = \"Linear Regression\"\n",
        "\n",
        "mae = round(mean_absolute_error(y_test,y_te_pred),4)\n",
        "rmse = round(np.sqrt(mean_squared_error(y_test,y_te_pred)),4)\n",
        "\n",
        "r2_train = r2_score(y_train, y_tr_pred)\n",
        "r2_test = r2_score(y_test,y_te_pred)\n",
        "r2_adj_train = (1 - (1 - r2_train) * (X_train_scaled.shape[0] - 1) / (X_train_scaled.shape[0] - X_train_scaled.shape[1] - 1))\n",
        "r2_adj_test = (1 - (1 - r2_test) * (X_test_scaled.shape[0] - 1) / (X_test_scaled.shape[0] - X_test_scaled.shape[1] - 1))\n",
        "\n",
        "results_df = results_df.append({'Model': model, 'R_Squared_train': r2_train, 'R_Squared_test': r2_test,'R_Squared_Adj_train': r2_adj_train, 'R_Squared_Adj_test': r2_adj_test, \n",
        "                                'RMSE': rmse, 'MAE': mae}, ignore_index=True)\n",
        "\n",
        "results_df"
      ],
      "metadata": {
        "colab": {
          "base_uri": "https://localhost:8080/",
          "height": 166
        },
        "id": "wEVK2JXgYX3x",
        "outputId": "1e5e59c0-88b8-4983-d232-519121cdf431"
      },
      "execution_count": 18,
      "outputs": [
        {
          "output_type": "stream",
          "name": "stderr",
          "text": [
            "<ipython-input-18-102e37004231>:11: FutureWarning: The frame.append method is deprecated and will be removed from pandas in a future version. Use pandas.concat instead.\n",
            "  results_df = results_df.append({'Model': model, 'R_Squared_train': r2_train, 'R_Squared_test': r2_test,'R_Squared_Adj_train': r2_adj_train, 'R_Squared_Adj_test': r2_adj_test,\n"
          ]
        },
        {
          "output_type": "execute_result",
          "data": {
            "text/plain": [
              "                      Model  R_Squared_train  R_Squared_test  \\\n",
              "0  Dummy Regressor (Median)    -6.127242e-07       -0.000478   \n",
              "1         Linear Regression     6.909249e-01        0.674132   \n",
              "\n",
              "   R_Squared_Adj_train  R_Squared_Adj_test    RMSE     MAE  \n",
              "0            -0.003534           -0.008768  0.0244  0.0194  \n",
              "1             0.689833            0.671431  0.0139  0.0104  "
            ],
            "text/html": [
              "\n",
              "  <div id=\"df-92de943f-8e35-4a7b-a599-df803521bf90\">\n",
              "    <div class=\"colab-df-container\">\n",
              "      <div>\n",
              "<style scoped>\n",
              "    .dataframe tbody tr th:only-of-type {\n",
              "        vertical-align: middle;\n",
              "    }\n",
              "\n",
              "    .dataframe tbody tr th {\n",
              "        vertical-align: top;\n",
              "    }\n",
              "\n",
              "    .dataframe thead th {\n",
              "        text-align: right;\n",
              "    }\n",
              "</style>\n",
              "<table border=\"1\" class=\"dataframe\">\n",
              "  <thead>\n",
              "    <tr style=\"text-align: right;\">\n",
              "      <th></th>\n",
              "      <th>Model</th>\n",
              "      <th>R_Squared_train</th>\n",
              "      <th>R_Squared_test</th>\n",
              "      <th>R_Squared_Adj_train</th>\n",
              "      <th>R_Squared_Adj_test</th>\n",
              "      <th>RMSE</th>\n",
              "      <th>MAE</th>\n",
              "    </tr>\n",
              "  </thead>\n",
              "  <tbody>\n",
              "    <tr>\n",
              "      <th>0</th>\n",
              "      <td>Dummy Regressor (Median)</td>\n",
              "      <td>-6.127242e-07</td>\n",
              "      <td>-0.000478</td>\n",
              "      <td>-0.003534</td>\n",
              "      <td>-0.008768</td>\n",
              "      <td>0.0244</td>\n",
              "      <td>0.0194</td>\n",
              "    </tr>\n",
              "    <tr>\n",
              "      <th>1</th>\n",
              "      <td>Linear Regression</td>\n",
              "      <td>6.909249e-01</td>\n",
              "      <td>0.674132</td>\n",
              "      <td>0.689833</td>\n",
              "      <td>0.671431</td>\n",
              "      <td>0.0139</td>\n",
              "      <td>0.0104</td>\n",
              "    </tr>\n",
              "  </tbody>\n",
              "</table>\n",
              "</div>\n",
              "      <button class=\"colab-df-convert\" onclick=\"convertToInteractive('df-92de943f-8e35-4a7b-a599-df803521bf90')\"\n",
              "              title=\"Convert this dataframe to an interactive table.\"\n",
              "              style=\"display:none;\">\n",
              "        \n",
              "  <svg xmlns=\"http://www.w3.org/2000/svg\" height=\"24px\"viewBox=\"0 0 24 24\"\n",
              "       width=\"24px\">\n",
              "    <path d=\"M0 0h24v24H0V0z\" fill=\"none\"/>\n",
              "    <path d=\"M18.56 5.44l.94 2.06.94-2.06 2.06-.94-2.06-.94-.94-2.06-.94 2.06-2.06.94zm-11 1L8.5 8.5l.94-2.06 2.06-.94-2.06-.94L8.5 2.5l-.94 2.06-2.06.94zm10 10l.94 2.06.94-2.06 2.06-.94-2.06-.94-.94-2.06-.94 2.06-2.06.94z\"/><path d=\"M17.41 7.96l-1.37-1.37c-.4-.4-.92-.59-1.43-.59-.52 0-1.04.2-1.43.59L10.3 9.45l-7.72 7.72c-.78.78-.78 2.05 0 2.83L4 21.41c.39.39.9.59 1.41.59.51 0 1.02-.2 1.41-.59l7.78-7.78 2.81-2.81c.8-.78.8-2.07 0-2.86zM5.41 20L4 18.59l7.72-7.72 1.47 1.35L5.41 20z\"/>\n",
              "  </svg>\n",
              "      </button>\n",
              "      \n",
              "  <style>\n",
              "    .colab-df-container {\n",
              "      display:flex;\n",
              "      flex-wrap:wrap;\n",
              "      gap: 12px;\n",
              "    }\n",
              "\n",
              "    .colab-df-convert {\n",
              "      background-color: #E8F0FE;\n",
              "      border: none;\n",
              "      border-radius: 50%;\n",
              "      cursor: pointer;\n",
              "      display: none;\n",
              "      fill: #1967D2;\n",
              "      height: 32px;\n",
              "      padding: 0 0 0 0;\n",
              "      width: 32px;\n",
              "    }\n",
              "\n",
              "    .colab-df-convert:hover {\n",
              "      background-color: #E2EBFA;\n",
              "      box-shadow: 0px 1px 2px rgba(60, 64, 67, 0.3), 0px 1px 3px 1px rgba(60, 64, 67, 0.15);\n",
              "      fill: #174EA6;\n",
              "    }\n",
              "\n",
              "    [theme=dark] .colab-df-convert {\n",
              "      background-color: #3B4455;\n",
              "      fill: #D2E3FC;\n",
              "    }\n",
              "\n",
              "    [theme=dark] .colab-df-convert:hover {\n",
              "      background-color: #434B5C;\n",
              "      box-shadow: 0px 1px 3px 1px rgba(0, 0, 0, 0.15);\n",
              "      filter: drop-shadow(0px 1px 2px rgba(0, 0, 0, 0.3));\n",
              "      fill: #FFFFFF;\n",
              "    }\n",
              "  </style>\n",
              "\n",
              "      <script>\n",
              "        const buttonEl =\n",
              "          document.querySelector('#df-92de943f-8e35-4a7b-a599-df803521bf90 button.colab-df-convert');\n",
              "        buttonEl.style.display =\n",
              "          google.colab.kernel.accessAllowed ? 'block' : 'none';\n",
              "\n",
              "        async function convertToInteractive(key) {\n",
              "          const element = document.querySelector('#df-92de943f-8e35-4a7b-a599-df803521bf90');\n",
              "          const dataTable =\n",
              "            await google.colab.kernel.invokeFunction('convertToInteractive',\n",
              "                                                     [key], {});\n",
              "          if (!dataTable) return;\n",
              "\n",
              "          const docLinkHtml = 'Like what you see? Visit the ' +\n",
              "            '<a target=\"_blank\" href=https://colab.research.google.com/notebooks/data_table.ipynb>data table notebook</a>'\n",
              "            + ' to learn more about interactive tables.';\n",
              "          element.innerHTML = '';\n",
              "          dataTable['output_type'] = 'display_data';\n",
              "          await google.colab.output.renderOutput(dataTable, element);\n",
              "          const docLink = document.createElement('div');\n",
              "          docLink.innerHTML = docLinkHtml;\n",
              "          element.appendChild(docLink);\n",
              "        }\n",
              "      </script>\n",
              "    </div>\n",
              "  </div>\n",
              "  "
            ]
          },
          "metadata": {},
          "execution_count": 18
        }
      ]
    },
    {
      "cell_type": "markdown",
      "source": [
        "#**XGBoost Regression Model**"
      ],
      "metadata": {
        "id": "Y46CoFbJYP96"
      }
    },
    {
      "cell_type": "markdown",
      "source": [
        "Based on gluon results, I have high expectations that the XGBoost Regression model if properly tuned should perform very well."
      ],
      "metadata": {
        "id": "qHbiQVOuYeL2"
      }
    },
    {
      "cell_type": "code",
      "source": [
        "#building XGBRegressor Model\n",
        "\n",
        "#tuning the hyperparameters for the XGBRegressor model\n",
        "#per mentor's recommendation minimize focus of gridSearchCV parameters to focus on to reduce number of model's needed to be built\n",
        "#xgb_reg = XGBRegressor(random_state = 7) \n",
        "\n",
        "#parameters = {#n_estimators determines the number of models to be built\n",
        "#    'n_estimators' : [50,100,150,200],\n",
        "    #max_depth determines the depth of the tree(s) built\n",
        "#    'max_depth' : [5,6,7,8],\n",
        "    #learning rate determines step size updates to prevent overfitting\n",
        "#    'learning_rate' : [0.01, 0.1, 1],\n",
        "    #subsample is the ratio of training data that is used to build a tree\n",
        "#    'subsample' : [0.5, 0.75, 1],\n",
        "    #colsample_bytree is the subsampling of the columns used to build a tree\n",
        "#    'colsample_bytree' : [0.5, 0.75, 1]\n",
        "              } \n",
        "\n",
        "#GridSearchCV params\n",
        "#cv = integer, dictates the number of folds for cross validation, anyone \n",
        "#verbose = 1, this determines the messages we see based on the calculator, higher integer means, mmore messages \n",
        "#scoring = there are a set of acceptable string values...\n",
        "# strategy to evaluate the performance of cross-validated model\n",
        "#n_jobs = None or -1, number of jobs to run in parallel\n",
        "\n",
        "#grid_xgb = GridSearchCV(xgb_reg, parameters, cv=10, verbose = 1, \n",
        "                         scoring='neg_mean_squared_error', n_jobs=-1)\n",
        " \n",
        "#grid_xgb.fit(X_train_scaled, y_train)\n",
        "\n",
        "#print(f\"Best paramters: {grid_xgb.best_params_})\")\n",
        "#print(\"MSE: \", -grid_xgb.best_score_)"
      ],
      "metadata": {
        "colab": {
          "base_uri": "https://localhost:8080/"
        },
        "id": "WXpEW-7bYgk3",
        "outputId": "3245bed0-6629-4770-96fb-fc1cab09facc"
      },
      "execution_count": 21,
      "outputs": [
        {
          "output_type": "stream",
          "name": "stdout",
          "text": [
            "Fitting 10 folds for each of 432 candidates, totalling 4320 fits\n",
            "Best paramters: {'colsample_bytree': 0.75, 'learning_rate': 0.1, 'max_depth': 7, 'n_estimators': 100, 'subsample': 1})\n",
            "MSE:  0.00014637739063926301\n"
          ]
        }
      ]
    },
    {
      "cell_type": "markdown",
      "source": [
        "It took roughly ~55 minutes to run this.\n",
        "\n",
        "Best paramters: {'colsample_bytree': 0.75, 'learning_rate': 0.1, 'max_depth': 7, 'n_estimators': 100, 'subsample': 1}) MSE: 0.00014637739063926301"
      ],
      "metadata": {
        "id": "EM4FtIEvYlkR"
      }
    },
    {
      "cell_type": "code",
      "source": [
        "#Using best parameters to build model for testing data set\n",
        "#fill in values below ??, with parameters values from grid_xgb\n",
        "xgb_tuned = XGBRegressor(colsample_bytree=0.75, learning_rate=0.1,\n",
        "                         max_depth=7, n_estimators=100, subsample=1, random_state = 7)\n",
        "\n",
        "#fitting to the training\n",
        "xgb_tuned.fit(X_train_scaled, y_train)\n",
        "\n",
        "#predicting on X_train\n",
        "y_tr_pred_xgb = xgb_tuned.predict(X_train_scaled)\n",
        "\n",
        "#predicting for X_test\n",
        "y_te_pred_xgb = xgb_tuned.predict(X_test_scaled)"
      ],
      "metadata": {
        "id": "Tpyjd4H-YnPy"
      },
      "execution_count": 22,
      "outputs": []
    },
    {
      "cell_type": "code",
      "source": [
        "model = \"XGBoost\"\n",
        "\n",
        "mae = round(mean_absolute_error(y_test,y_te_pred_xgb),4)\n",
        "rmse = round(np.sqrt(mean_squared_error(y_test,y_te_pred_xgb)),4)\n",
        "\n",
        "r2_train = r2_score(y_train, y_tr_pred_xgb)\n",
        "r2_test = r2_score(y_test,y_te_pred_xgb)\n",
        "r2_adj_train = (1 - (1 - r2_train) * (X_train_scaled.shape[0] - 1) / (X_train_scaled.shape[0] - X_train_scaled.shape[1] - 1))\n",
        "r2_adj_test = (1 - (1 - r2_test) * (X_test_scaled.shape[0] - 1) / (X_test_scaled.shape[0] - X_test_scaled.shape[1] - 1))\n",
        "\n",
        "results_df = results_df.append({'Model': model, 'R_Squared_train': r2_train, 'R_Squared_test': r2_test,'R_Squared_Adj_train': r2_adj_train, 'R_Squared_Adj_test': r2_adj_test, \n",
        "                                'RMSE': rmse, 'MAE': mae}, ignore_index=True)\n",
        "\n",
        "results_df"
      ],
      "metadata": {
        "colab": {
          "base_uri": "https://localhost:8080/",
          "height": 198
        },
        "id": "CuvAKogkYoPc",
        "outputId": "e3420f9a-4b76-4ac0-d40a-0cc05272e631"
      },
      "execution_count": 23,
      "outputs": [
        {
          "output_type": "stream",
          "name": "stderr",
          "text": [
            "<ipython-input-23-6ea8d4f3c8b5>:11: FutureWarning: The frame.append method is deprecated and will be removed from pandas in a future version. Use pandas.concat instead.\n",
            "  results_df = results_df.append({'Model': model, 'R_Squared_train': r2_train, 'R_Squared_test': r2_test,'R_Squared_Adj_train': r2_adj_train, 'R_Squared_Adj_test': r2_adj_test,\n"
          ]
        },
        {
          "output_type": "execute_result",
          "data": {
            "text/plain": [
              "                      Model  R_Squared_train  R_Squared_test  \\\n",
              "0  Dummy Regressor (Median)    -6.127242e-07       -0.000478   \n",
              "1         Linear Regression     6.909249e-01        0.674132   \n",
              "2                   XGBoost     9.220981e-01        0.764047   \n",
              "\n",
              "   R_Squared_Adj_train  R_Squared_Adj_test    RMSE     MAE  \n",
              "0            -0.003534           -0.008768  0.0244  0.0194  \n",
              "1             0.689833            0.671431  0.0139  0.0104  \n",
              "2             0.921823            0.762092  0.0119  0.0083  "
            ],
            "text/html": [
              "\n",
              "  <div id=\"df-051c89f0-2cb2-47e8-bbd4-b396adc4ed12\">\n",
              "    <div class=\"colab-df-container\">\n",
              "      <div>\n",
              "<style scoped>\n",
              "    .dataframe tbody tr th:only-of-type {\n",
              "        vertical-align: middle;\n",
              "    }\n",
              "\n",
              "    .dataframe tbody tr th {\n",
              "        vertical-align: top;\n",
              "    }\n",
              "\n",
              "    .dataframe thead th {\n",
              "        text-align: right;\n",
              "    }\n",
              "</style>\n",
              "<table border=\"1\" class=\"dataframe\">\n",
              "  <thead>\n",
              "    <tr style=\"text-align: right;\">\n",
              "      <th></th>\n",
              "      <th>Model</th>\n",
              "      <th>R_Squared_train</th>\n",
              "      <th>R_Squared_test</th>\n",
              "      <th>R_Squared_Adj_train</th>\n",
              "      <th>R_Squared_Adj_test</th>\n",
              "      <th>RMSE</th>\n",
              "      <th>MAE</th>\n",
              "    </tr>\n",
              "  </thead>\n",
              "  <tbody>\n",
              "    <tr>\n",
              "      <th>0</th>\n",
              "      <td>Dummy Regressor (Median)</td>\n",
              "      <td>-6.127242e-07</td>\n",
              "      <td>-0.000478</td>\n",
              "      <td>-0.003534</td>\n",
              "      <td>-0.008768</td>\n",
              "      <td>0.0244</td>\n",
              "      <td>0.0194</td>\n",
              "    </tr>\n",
              "    <tr>\n",
              "      <th>1</th>\n",
              "      <td>Linear Regression</td>\n",
              "      <td>6.909249e-01</td>\n",
              "      <td>0.674132</td>\n",
              "      <td>0.689833</td>\n",
              "      <td>0.671431</td>\n",
              "      <td>0.0139</td>\n",
              "      <td>0.0104</td>\n",
              "    </tr>\n",
              "    <tr>\n",
              "      <th>2</th>\n",
              "      <td>XGBoost</td>\n",
              "      <td>9.220981e-01</td>\n",
              "      <td>0.764047</td>\n",
              "      <td>0.921823</td>\n",
              "      <td>0.762092</td>\n",
              "      <td>0.0119</td>\n",
              "      <td>0.0083</td>\n",
              "    </tr>\n",
              "  </tbody>\n",
              "</table>\n",
              "</div>\n",
              "      <button class=\"colab-df-convert\" onclick=\"convertToInteractive('df-051c89f0-2cb2-47e8-bbd4-b396adc4ed12')\"\n",
              "              title=\"Convert this dataframe to an interactive table.\"\n",
              "              style=\"display:none;\">\n",
              "        \n",
              "  <svg xmlns=\"http://www.w3.org/2000/svg\" height=\"24px\"viewBox=\"0 0 24 24\"\n",
              "       width=\"24px\">\n",
              "    <path d=\"M0 0h24v24H0V0z\" fill=\"none\"/>\n",
              "    <path d=\"M18.56 5.44l.94 2.06.94-2.06 2.06-.94-2.06-.94-.94-2.06-.94 2.06-2.06.94zm-11 1L8.5 8.5l.94-2.06 2.06-.94-2.06-.94L8.5 2.5l-.94 2.06-2.06.94zm10 10l.94 2.06.94-2.06 2.06-.94-2.06-.94-.94-2.06-.94 2.06-2.06.94z\"/><path d=\"M17.41 7.96l-1.37-1.37c-.4-.4-.92-.59-1.43-.59-.52 0-1.04.2-1.43.59L10.3 9.45l-7.72 7.72c-.78.78-.78 2.05 0 2.83L4 21.41c.39.39.9.59 1.41.59.51 0 1.02-.2 1.41-.59l7.78-7.78 2.81-2.81c.8-.78.8-2.07 0-2.86zM5.41 20L4 18.59l7.72-7.72 1.47 1.35L5.41 20z\"/>\n",
              "  </svg>\n",
              "      </button>\n",
              "      \n",
              "  <style>\n",
              "    .colab-df-container {\n",
              "      display:flex;\n",
              "      flex-wrap:wrap;\n",
              "      gap: 12px;\n",
              "    }\n",
              "\n",
              "    .colab-df-convert {\n",
              "      background-color: #E8F0FE;\n",
              "      border: none;\n",
              "      border-radius: 50%;\n",
              "      cursor: pointer;\n",
              "      display: none;\n",
              "      fill: #1967D2;\n",
              "      height: 32px;\n",
              "      padding: 0 0 0 0;\n",
              "      width: 32px;\n",
              "    }\n",
              "\n",
              "    .colab-df-convert:hover {\n",
              "      background-color: #E2EBFA;\n",
              "      box-shadow: 0px 1px 2px rgba(60, 64, 67, 0.3), 0px 1px 3px 1px rgba(60, 64, 67, 0.15);\n",
              "      fill: #174EA6;\n",
              "    }\n",
              "\n",
              "    [theme=dark] .colab-df-convert {\n",
              "      background-color: #3B4455;\n",
              "      fill: #D2E3FC;\n",
              "    }\n",
              "\n",
              "    [theme=dark] .colab-df-convert:hover {\n",
              "      background-color: #434B5C;\n",
              "      box-shadow: 0px 1px 3px 1px rgba(0, 0, 0, 0.15);\n",
              "      filter: drop-shadow(0px 1px 2px rgba(0, 0, 0, 0.3));\n",
              "      fill: #FFFFFF;\n",
              "    }\n",
              "  </style>\n",
              "\n",
              "      <script>\n",
              "        const buttonEl =\n",
              "          document.querySelector('#df-051c89f0-2cb2-47e8-bbd4-b396adc4ed12 button.colab-df-convert');\n",
              "        buttonEl.style.display =\n",
              "          google.colab.kernel.accessAllowed ? 'block' : 'none';\n",
              "\n",
              "        async function convertToInteractive(key) {\n",
              "          const element = document.querySelector('#df-051c89f0-2cb2-47e8-bbd4-b396adc4ed12');\n",
              "          const dataTable =\n",
              "            await google.colab.kernel.invokeFunction('convertToInteractive',\n",
              "                                                     [key], {});\n",
              "          if (!dataTable) return;\n",
              "\n",
              "          const docLinkHtml = 'Like what you see? Visit the ' +\n",
              "            '<a target=\"_blank\" href=https://colab.research.google.com/notebooks/data_table.ipynb>data table notebook</a>'\n",
              "            + ' to learn more about interactive tables.';\n",
              "          element.innerHTML = '';\n",
              "          dataTable['output_type'] = 'display_data';\n",
              "          await google.colab.output.renderOutput(dataTable, element);\n",
              "          const docLink = document.createElement('div');\n",
              "          docLink.innerHTML = docLinkHtml;\n",
              "          element.appendChild(docLink);\n",
              "        }\n",
              "      </script>\n",
              "    </div>\n",
              "  </div>\n",
              "  "
            ]
          },
          "metadata": {},
          "execution_count": 23
        }
      ]
    },
    {
      "cell_type": "markdown",
      "source": [
        "#**Random Forest Regression Model**"
      ],
      "metadata": {
        "id": "OjAkOvnaYr7v"
      }
    },
    {
      "cell_type": "code",
      "source": [
        "#param_grid = {'n_estimators': [50, 100, 200, 300],\n",
        "#               'max_depth': [None, 10, 20, 30],\n",
        "#               'min_samples_split': [2, 5, 10],\n",
        "#               'min_samples_leaf': [1, 2, 4]}\n",
        "\n",
        "\n",
        "#reg_rf = RandomForestRegressor(random_state=7)\n",
        "\n",
        "#grid_rf = GridSearchCV(reg_rf, param_grid, scoring=\"neg_mean_squared_error\", n_jobs=-1, verbose=1, cv=5)\n",
        "#grid_rf.fit(X_train_scaled, y_train)\n",
        "#best_params = grid_rf.best_params_\n",
        "\n",
        "#print(f\"Best parameters: {best_params})\")\n",
        "#print(\"MSE: \", -grid_rf.best_score_)"
      ],
      "metadata": {
        "colab": {
          "base_uri": "https://localhost:8080/"
        },
        "id": "vAgf_mFgYqIe",
        "outputId": "db3067db-4c21-496b-edd1-56f93dca1268"
      },
      "execution_count": 24,
      "outputs": [
        {
          "output_type": "stream",
          "name": "stdout",
          "text": [
            "Fitting 5 folds for each of 144 candidates, totalling 720 fits\n"
          ]
        },
        {
          "output_type": "stream",
          "name": "stderr",
          "text": [
            "/usr/local/lib/python3.10/dist-packages/sklearn/model_selection/_search.py:909: DataConversionWarning: A column-vector y was passed when a 1d array was expected. Please change the shape of y to (n_samples,), for example using ravel().\n",
            "  self.best_estimator_.fit(X, y, **fit_params)\n"
          ]
        },
        {
          "output_type": "stream",
          "name": "stdout",
          "text": [
            "Best parameters: {'max_depth': 20, 'min_samples_leaf': 1, 'min_samples_split': 5, 'n_estimators': 300})\n",
            "MSE:  0.0001543863360799219\n"
          ]
        }
      ]
    },
    {
      "cell_type": "markdown",
      "source": [
        "It took roughly ~40 minutes to run this.\n",
        "\n",
        "Best paramters: {'max_depth': 20, 'min_samples_leaf': 1, 'min_samples_split': 5, 'n_estimators': 300})\n",
        "MSE:   0.0001543863360799219"
      ],
      "metadata": {
        "id": "ZDcW8qm4YyHQ"
      }
    },
    {
      "cell_type": "code",
      "source": [
        "rf_tuned = RandomForestRegressor(max_depth=20, min_samples_leaf=1, min_samples_split=5, n_estimators=300, random_state = 7) \n",
        "rf_tuned.fit(X_train_scaled, y_train)\n",
        "y_te_pred_rf = rf_tuned.predict(X_test_scaled)\n",
        "y_tr_pred_rf = rf_tuned.predict(X_train_scaled)"
      ],
      "metadata": {
        "colab": {
          "base_uri": "https://localhost:8080/"
        },
        "id": "6uDUDsOKY5FD",
        "outputId": "5df807bb-6deb-4b74-bac4-2c1fe4a2d72e"
      },
      "execution_count": 25,
      "outputs": [
        {
          "output_type": "stream",
          "name": "stderr",
          "text": [
            "<ipython-input-25-9387e626ae70>:2: DataConversionWarning: A column-vector y was passed when a 1d array was expected. Please change the shape of y to (n_samples,), for example using ravel().\n",
            "  rf_tuned.fit(X_train_scaled, y_train)\n"
          ]
        }
      ]
    },
    {
      "cell_type": "code",
      "source": [
        "model = \"Random Forest\"\n",
        "\n",
        "mae = round(mean_absolute_error(y_test,y_te_pred_rf),4)\n",
        "rmse = round(np.sqrt(mean_squared_error(y_test,y_te_pred_rf)),4)\n",
        "\n",
        "r2_train = r2_score(y_train, y_tr_pred_rf)\n",
        "r2_test = r2_score(y_test,y_te_pred_rf)\n",
        "r2_adj_train = (1 - (1 - r2_train) * (X_train_scaled.shape[0] - 1) / (X_train_scaled.shape[0] - X_train_scaled.shape[1] - 1))\n",
        "r2_adj_test = (1 - (1 - r2_test) * (X_test_scaled.shape[0] - 1) / (X_test_scaled.shape[0] - X_test_scaled.shape[1] - 1))\n",
        "\n",
        "results_df = results_df.append({'Model': model, 'R_Squared_train': r2_train, 'R_Squared_test': r2_test,'R_Squared_Adj_train': r2_adj_train, 'R_Squared_Adj_test': r2_adj_test, \n",
        "                                'RMSE': rmse, 'MAE': mae}, ignore_index=True)\n",
        "\n",
        "results_df"
      ],
      "metadata": {
        "colab": {
          "base_uri": "https://localhost:8080/",
          "height": 229
        },
        "id": "rSeFOgNvY9fn",
        "outputId": "ad268942-0682-41a4-8765-51fa268eb728"
      },
      "execution_count": 26,
      "outputs": [
        {
          "output_type": "stream",
          "name": "stderr",
          "text": [
            "<ipython-input-26-45deab215adc>:11: FutureWarning: The frame.append method is deprecated and will be removed from pandas in a future version. Use pandas.concat instead.\n",
            "  results_df = results_df.append({'Model': model, 'R_Squared_train': r2_train, 'R_Squared_test': r2_test,'R_Squared_Adj_train': r2_adj_train, 'R_Squared_Adj_test': r2_adj_test,\n"
          ]
        },
        {
          "output_type": "execute_result",
          "data": {
            "text/plain": [
              "                      Model  R_Squared_train  R_Squared_test  \\\n",
              "0  Dummy Regressor (Median)    -6.127242e-07       -0.000478   \n",
              "1         Linear Regression     6.909249e-01        0.674132   \n",
              "2                   XGBoost     9.220981e-01        0.764047   \n",
              "3             Random Forest     9.551438e-01        0.757463   \n",
              "\n",
              "   R_Squared_Adj_train  R_Squared_Adj_test    RMSE     MAE  \n",
              "0            -0.003534           -0.008768  0.0244  0.0194  \n",
              "1             0.689833            0.671431  0.0139  0.0104  \n",
              "2             0.921823            0.762092  0.0119  0.0083  \n",
              "3             0.954985            0.755453  0.0120  0.0082  "
            ],
            "text/html": [
              "\n",
              "  <div id=\"df-d56823aa-42e2-47c4-9f14-ca22fcaff97d\">\n",
              "    <div class=\"colab-df-container\">\n",
              "      <div>\n",
              "<style scoped>\n",
              "    .dataframe tbody tr th:only-of-type {\n",
              "        vertical-align: middle;\n",
              "    }\n",
              "\n",
              "    .dataframe tbody tr th {\n",
              "        vertical-align: top;\n",
              "    }\n",
              "\n",
              "    .dataframe thead th {\n",
              "        text-align: right;\n",
              "    }\n",
              "</style>\n",
              "<table border=\"1\" class=\"dataframe\">\n",
              "  <thead>\n",
              "    <tr style=\"text-align: right;\">\n",
              "      <th></th>\n",
              "      <th>Model</th>\n",
              "      <th>R_Squared_train</th>\n",
              "      <th>R_Squared_test</th>\n",
              "      <th>R_Squared_Adj_train</th>\n",
              "      <th>R_Squared_Adj_test</th>\n",
              "      <th>RMSE</th>\n",
              "      <th>MAE</th>\n",
              "    </tr>\n",
              "  </thead>\n",
              "  <tbody>\n",
              "    <tr>\n",
              "      <th>0</th>\n",
              "      <td>Dummy Regressor (Median)</td>\n",
              "      <td>-6.127242e-07</td>\n",
              "      <td>-0.000478</td>\n",
              "      <td>-0.003534</td>\n",
              "      <td>-0.008768</td>\n",
              "      <td>0.0244</td>\n",
              "      <td>0.0194</td>\n",
              "    </tr>\n",
              "    <tr>\n",
              "      <th>1</th>\n",
              "      <td>Linear Regression</td>\n",
              "      <td>6.909249e-01</td>\n",
              "      <td>0.674132</td>\n",
              "      <td>0.689833</td>\n",
              "      <td>0.671431</td>\n",
              "      <td>0.0139</td>\n",
              "      <td>0.0104</td>\n",
              "    </tr>\n",
              "    <tr>\n",
              "      <th>2</th>\n",
              "      <td>XGBoost</td>\n",
              "      <td>9.220981e-01</td>\n",
              "      <td>0.764047</td>\n",
              "      <td>0.921823</td>\n",
              "      <td>0.762092</td>\n",
              "      <td>0.0119</td>\n",
              "      <td>0.0083</td>\n",
              "    </tr>\n",
              "    <tr>\n",
              "      <th>3</th>\n",
              "      <td>Random Forest</td>\n",
              "      <td>9.551438e-01</td>\n",
              "      <td>0.757463</td>\n",
              "      <td>0.954985</td>\n",
              "      <td>0.755453</td>\n",
              "      <td>0.0120</td>\n",
              "      <td>0.0082</td>\n",
              "    </tr>\n",
              "  </tbody>\n",
              "</table>\n",
              "</div>\n",
              "      <button class=\"colab-df-convert\" onclick=\"convertToInteractive('df-d56823aa-42e2-47c4-9f14-ca22fcaff97d')\"\n",
              "              title=\"Convert this dataframe to an interactive table.\"\n",
              "              style=\"display:none;\">\n",
              "        \n",
              "  <svg xmlns=\"http://www.w3.org/2000/svg\" height=\"24px\"viewBox=\"0 0 24 24\"\n",
              "       width=\"24px\">\n",
              "    <path d=\"M0 0h24v24H0V0z\" fill=\"none\"/>\n",
              "    <path d=\"M18.56 5.44l.94 2.06.94-2.06 2.06-.94-2.06-.94-.94-2.06-.94 2.06-2.06.94zm-11 1L8.5 8.5l.94-2.06 2.06-.94-2.06-.94L8.5 2.5l-.94 2.06-2.06.94zm10 10l.94 2.06.94-2.06 2.06-.94-2.06-.94-.94-2.06-.94 2.06-2.06.94z\"/><path d=\"M17.41 7.96l-1.37-1.37c-.4-.4-.92-.59-1.43-.59-.52 0-1.04.2-1.43.59L10.3 9.45l-7.72 7.72c-.78.78-.78 2.05 0 2.83L4 21.41c.39.39.9.59 1.41.59.51 0 1.02-.2 1.41-.59l7.78-7.78 2.81-2.81c.8-.78.8-2.07 0-2.86zM5.41 20L4 18.59l7.72-7.72 1.47 1.35L5.41 20z\"/>\n",
              "  </svg>\n",
              "      </button>\n",
              "      \n",
              "  <style>\n",
              "    .colab-df-container {\n",
              "      display:flex;\n",
              "      flex-wrap:wrap;\n",
              "      gap: 12px;\n",
              "    }\n",
              "\n",
              "    .colab-df-convert {\n",
              "      background-color: #E8F0FE;\n",
              "      border: none;\n",
              "      border-radius: 50%;\n",
              "      cursor: pointer;\n",
              "      display: none;\n",
              "      fill: #1967D2;\n",
              "      height: 32px;\n",
              "      padding: 0 0 0 0;\n",
              "      width: 32px;\n",
              "    }\n",
              "\n",
              "    .colab-df-convert:hover {\n",
              "      background-color: #E2EBFA;\n",
              "      box-shadow: 0px 1px 2px rgba(60, 64, 67, 0.3), 0px 1px 3px 1px rgba(60, 64, 67, 0.15);\n",
              "      fill: #174EA6;\n",
              "    }\n",
              "\n",
              "    [theme=dark] .colab-df-convert {\n",
              "      background-color: #3B4455;\n",
              "      fill: #D2E3FC;\n",
              "    }\n",
              "\n",
              "    [theme=dark] .colab-df-convert:hover {\n",
              "      background-color: #434B5C;\n",
              "      box-shadow: 0px 1px 3px 1px rgba(0, 0, 0, 0.15);\n",
              "      filter: drop-shadow(0px 1px 2px rgba(0, 0, 0, 0.3));\n",
              "      fill: #FFFFFF;\n",
              "    }\n",
              "  </style>\n",
              "\n",
              "      <script>\n",
              "        const buttonEl =\n",
              "          document.querySelector('#df-d56823aa-42e2-47c4-9f14-ca22fcaff97d button.colab-df-convert');\n",
              "        buttonEl.style.display =\n",
              "          google.colab.kernel.accessAllowed ? 'block' : 'none';\n",
              "\n",
              "        async function convertToInteractive(key) {\n",
              "          const element = document.querySelector('#df-d56823aa-42e2-47c4-9f14-ca22fcaff97d');\n",
              "          const dataTable =\n",
              "            await google.colab.kernel.invokeFunction('convertToInteractive',\n",
              "                                                     [key], {});\n",
              "          if (!dataTable) return;\n",
              "\n",
              "          const docLinkHtml = 'Like what you see? Visit the ' +\n",
              "            '<a target=\"_blank\" href=https://colab.research.google.com/notebooks/data_table.ipynb>data table notebook</a>'\n",
              "            + ' to learn more about interactive tables.';\n",
              "          element.innerHTML = '';\n",
              "          dataTable['output_type'] = 'display_data';\n",
              "          await google.colab.output.renderOutput(dataTable, element);\n",
              "          const docLink = document.createElement('div');\n",
              "          docLink.innerHTML = docLinkHtml;\n",
              "          element.appendChild(docLink);\n",
              "        }\n",
              "      </script>\n",
              "    </div>\n",
              "  </div>\n",
              "  "
            ]
          },
          "metadata": {},
          "execution_count": 26
        }
      ]
    },
    {
      "cell_type": "markdown",
      "source": [
        "#**Decision Tree Regressor Model**"
      ],
      "metadata": {
        "id": "LBa-S1HTZDjS"
      }
    },
    {
      "cell_type": "code",
      "source": [
        "#param_grid = { \n",
        "#    \"max_depth\":(list(range(1, 5))), \n",
        "#    \"min_samples_split\":[2, 3, 4], \n",
        "#    \"min_samples_leaf\":list(range(1, 5))\n",
        "#}\n",
        "\n",
        "#reg_dt = DecisionTreeRegressor(random_state = 7) \n",
        "\n",
        "#grid_dt = GridSearchCV(reg_dt, param_grid, scoring=\"neg_mean_squared_error\", n_jobs=-1, verbose=1, cv=5)\n",
        "#grid_dt.fit(X_train_scaled, y_train)\n",
        "#best_params = grid_dt.best_params_\n",
        "\n",
        "#print(f\"Best parameters: {best_params})\")\n",
        "#print(\"MSE: \", -grid_dt.best_score_)"
      ],
      "metadata": {
        "colab": {
          "base_uri": "https://localhost:8080/"
        },
        "id": "V9aLK_-TZIbW",
        "outputId": "ef344992-6360-4a7c-ad09-85009f69c212"
      },
      "execution_count": 27,
      "outputs": [
        {
          "output_type": "stream",
          "name": "stdout",
          "text": [
            "Fitting 5 folds for each of 48 candidates, totalling 240 fits\n",
            "Best parameters: {'max_depth': 4, 'min_samples_leaf': 3, 'min_samples_split': 2})\n",
            "MSE:  0.00022651371873831498\n"
          ]
        }
      ]
    },
    {
      "cell_type": "markdown",
      "source": [
        "Took 5 seconds to run this.\n",
        "\n",
        "Best parameters: {'max_depth': 4, 'min_samples_leaf': 3, 'min_samples_split': 2}\n",
        "\n",
        "MSE:  0.00022651371873831498"
      ],
      "metadata": {
        "id": "KHycMnpTZFsg"
      }
    },
    {
      "cell_type": "code",
      "source": [
        "reg_dt = DecisionTreeRegressor(max_depth=4, min_samples_leaf=3, min_samples_split=2, splitter='best', max_features='auto', random_state = 7) \n",
        "reg_dt.fit(X_train_scaled, y_train)\n",
        "y_te_pred_dt = reg_dt.predict(X_test_scaled)\n",
        "y_tr_pred_dt = reg_dt.predict(X_train_scaled)"
      ],
      "metadata": {
        "colab": {
          "base_uri": "https://localhost:8080/"
        },
        "id": "Yx7ht3YaZMm1",
        "outputId": "59f9e8de-89d5-4511-fd4a-570c3e8cd10c"
      },
      "execution_count": 28,
      "outputs": [
        {
          "output_type": "stream",
          "name": "stderr",
          "text": [
            "/usr/local/lib/python3.10/dist-packages/sklearn/tree/_classes.py:277: FutureWarning: `max_features='auto'` has been deprecated in 1.1 and will be removed in 1.3. To keep the past behaviour, explicitly set `max_features=1.0'`.\n",
            "  warnings.warn(\n"
          ]
        }
      ]
    },
    {
      "cell_type": "code",
      "source": [
        "model = \"Decision Tree\"\n",
        "\n",
        "mae = round(mean_absolute_error(y_test,y_te_pred_dt),4)\n",
        "rmse = round(np.sqrt(mean_squared_error(y_test,y_te_pred_dt)),4)\n",
        "\n",
        "r2_train = r2_score(y_train, y_tr_pred_dt)\n",
        "r2_test = r2_score(y_test,y_te_pred_dt)\n",
        "r2_adj_train = (1 - (1 - r2_train) * (X_train_scaled.shape[0] - 1) / (X_train_scaled.shape[0] - X_train_scaled.shape[1] - 1))\n",
        "r2_adj_test = (1 - (1 - r2_test) * (X_test_scaled.shape[0] - 1) / (X_test_scaled.shape[0] - X_test_scaled.shape[1] - 1))\n",
        "\n",
        "results_df = results_df.append({'Model': model, 'R_Squared_train': r2_train, 'R_Squared_test': r2_test,'R_Squared_Adj_train': r2_adj_train, 'R_Squared_Adj_test': r2_adj_test, \n",
        "                                'RMSE': rmse, 'MAE': mae}, ignore_index=True)\n",
        "\n",
        "results_df"
      ],
      "metadata": {
        "colab": {
          "base_uri": "https://localhost:8080/",
          "height": 261
        },
        "id": "LYlVlU0-ZQQT",
        "outputId": "a2edb3c4-49f1-48fa-da77-b989247e249f"
      },
      "execution_count": 29,
      "outputs": [
        {
          "output_type": "stream",
          "name": "stderr",
          "text": [
            "<ipython-input-29-bf436b6ab8c4>:11: FutureWarning: The frame.append method is deprecated and will be removed from pandas in a future version. Use pandas.concat instead.\n",
            "  results_df = results_df.append({'Model': model, 'R_Squared_train': r2_train, 'R_Squared_test': r2_test,'R_Squared_Adj_train': r2_adj_train, 'R_Squared_Adj_test': r2_adj_test,\n"
          ]
        },
        {
          "output_type": "execute_result",
          "data": {
            "text/plain": [
              "                      Model  R_Squared_train  R_Squared_test  \\\n",
              "0  Dummy Regressor (Median)    -6.127242e-07       -0.000478   \n",
              "1         Linear Regression     6.909249e-01        0.674132   \n",
              "2                   XGBoost     9.220981e-01        0.764047   \n",
              "3             Random Forest     9.551438e-01        0.757463   \n",
              "4             Decision Tree     6.836561e-01        0.650789   \n",
              "\n",
              "   R_Squared_Adj_train  R_Squared_Adj_test    RMSE     MAE  \n",
              "0            -0.003534           -0.008768  0.0244  0.0194  \n",
              "1             0.689833            0.671431  0.0139  0.0104  \n",
              "2             0.921823            0.762092  0.0119  0.0083  \n",
              "3             0.954985            0.755453  0.0120  0.0082  \n",
              "4             0.682538            0.647895  0.0144  0.0106  "
            ],
            "text/html": [
              "\n",
              "  <div id=\"df-e8db82f4-40cc-4ac9-bb88-cffc49901e66\">\n",
              "    <div class=\"colab-df-container\">\n",
              "      <div>\n",
              "<style scoped>\n",
              "    .dataframe tbody tr th:only-of-type {\n",
              "        vertical-align: middle;\n",
              "    }\n",
              "\n",
              "    .dataframe tbody tr th {\n",
              "        vertical-align: top;\n",
              "    }\n",
              "\n",
              "    .dataframe thead th {\n",
              "        text-align: right;\n",
              "    }\n",
              "</style>\n",
              "<table border=\"1\" class=\"dataframe\">\n",
              "  <thead>\n",
              "    <tr style=\"text-align: right;\">\n",
              "      <th></th>\n",
              "      <th>Model</th>\n",
              "      <th>R_Squared_train</th>\n",
              "      <th>R_Squared_test</th>\n",
              "      <th>R_Squared_Adj_train</th>\n",
              "      <th>R_Squared_Adj_test</th>\n",
              "      <th>RMSE</th>\n",
              "      <th>MAE</th>\n",
              "    </tr>\n",
              "  </thead>\n",
              "  <tbody>\n",
              "    <tr>\n",
              "      <th>0</th>\n",
              "      <td>Dummy Regressor (Median)</td>\n",
              "      <td>-6.127242e-07</td>\n",
              "      <td>-0.000478</td>\n",
              "      <td>-0.003534</td>\n",
              "      <td>-0.008768</td>\n",
              "      <td>0.0244</td>\n",
              "      <td>0.0194</td>\n",
              "    </tr>\n",
              "    <tr>\n",
              "      <th>1</th>\n",
              "      <td>Linear Regression</td>\n",
              "      <td>6.909249e-01</td>\n",
              "      <td>0.674132</td>\n",
              "      <td>0.689833</td>\n",
              "      <td>0.671431</td>\n",
              "      <td>0.0139</td>\n",
              "      <td>0.0104</td>\n",
              "    </tr>\n",
              "    <tr>\n",
              "      <th>2</th>\n",
              "      <td>XGBoost</td>\n",
              "      <td>9.220981e-01</td>\n",
              "      <td>0.764047</td>\n",
              "      <td>0.921823</td>\n",
              "      <td>0.762092</td>\n",
              "      <td>0.0119</td>\n",
              "      <td>0.0083</td>\n",
              "    </tr>\n",
              "    <tr>\n",
              "      <th>3</th>\n",
              "      <td>Random Forest</td>\n",
              "      <td>9.551438e-01</td>\n",
              "      <td>0.757463</td>\n",
              "      <td>0.954985</td>\n",
              "      <td>0.755453</td>\n",
              "      <td>0.0120</td>\n",
              "      <td>0.0082</td>\n",
              "    </tr>\n",
              "    <tr>\n",
              "      <th>4</th>\n",
              "      <td>Decision Tree</td>\n",
              "      <td>6.836561e-01</td>\n",
              "      <td>0.650789</td>\n",
              "      <td>0.682538</td>\n",
              "      <td>0.647895</td>\n",
              "      <td>0.0144</td>\n",
              "      <td>0.0106</td>\n",
              "    </tr>\n",
              "  </tbody>\n",
              "</table>\n",
              "</div>\n",
              "      <button class=\"colab-df-convert\" onclick=\"convertToInteractive('df-e8db82f4-40cc-4ac9-bb88-cffc49901e66')\"\n",
              "              title=\"Convert this dataframe to an interactive table.\"\n",
              "              style=\"display:none;\">\n",
              "        \n",
              "  <svg xmlns=\"http://www.w3.org/2000/svg\" height=\"24px\"viewBox=\"0 0 24 24\"\n",
              "       width=\"24px\">\n",
              "    <path d=\"M0 0h24v24H0V0z\" fill=\"none\"/>\n",
              "    <path d=\"M18.56 5.44l.94 2.06.94-2.06 2.06-.94-2.06-.94-.94-2.06-.94 2.06-2.06.94zm-11 1L8.5 8.5l.94-2.06 2.06-.94-2.06-.94L8.5 2.5l-.94 2.06-2.06.94zm10 10l.94 2.06.94-2.06 2.06-.94-2.06-.94-.94-2.06-.94 2.06-2.06.94z\"/><path d=\"M17.41 7.96l-1.37-1.37c-.4-.4-.92-.59-1.43-.59-.52 0-1.04.2-1.43.59L10.3 9.45l-7.72 7.72c-.78.78-.78 2.05 0 2.83L4 21.41c.39.39.9.59 1.41.59.51 0 1.02-.2 1.41-.59l7.78-7.78 2.81-2.81c.8-.78.8-2.07 0-2.86zM5.41 20L4 18.59l7.72-7.72 1.47 1.35L5.41 20z\"/>\n",
              "  </svg>\n",
              "      </button>\n",
              "      \n",
              "  <style>\n",
              "    .colab-df-container {\n",
              "      display:flex;\n",
              "      flex-wrap:wrap;\n",
              "      gap: 12px;\n",
              "    }\n",
              "\n",
              "    .colab-df-convert {\n",
              "      background-color: #E8F0FE;\n",
              "      border: none;\n",
              "      border-radius: 50%;\n",
              "      cursor: pointer;\n",
              "      display: none;\n",
              "      fill: #1967D2;\n",
              "      height: 32px;\n",
              "      padding: 0 0 0 0;\n",
              "      width: 32px;\n",
              "    }\n",
              "\n",
              "    .colab-df-convert:hover {\n",
              "      background-color: #E2EBFA;\n",
              "      box-shadow: 0px 1px 2px rgba(60, 64, 67, 0.3), 0px 1px 3px 1px rgba(60, 64, 67, 0.15);\n",
              "      fill: #174EA6;\n",
              "    }\n",
              "\n",
              "    [theme=dark] .colab-df-convert {\n",
              "      background-color: #3B4455;\n",
              "      fill: #D2E3FC;\n",
              "    }\n",
              "\n",
              "    [theme=dark] .colab-df-convert:hover {\n",
              "      background-color: #434B5C;\n",
              "      box-shadow: 0px 1px 3px 1px rgba(0, 0, 0, 0.15);\n",
              "      filter: drop-shadow(0px 1px 2px rgba(0, 0, 0, 0.3));\n",
              "      fill: #FFFFFF;\n",
              "    }\n",
              "  </style>\n",
              "\n",
              "      <script>\n",
              "        const buttonEl =\n",
              "          document.querySelector('#df-e8db82f4-40cc-4ac9-bb88-cffc49901e66 button.colab-df-convert');\n",
              "        buttonEl.style.display =\n",
              "          google.colab.kernel.accessAllowed ? 'block' : 'none';\n",
              "\n",
              "        async function convertToInteractive(key) {\n",
              "          const element = document.querySelector('#df-e8db82f4-40cc-4ac9-bb88-cffc49901e66');\n",
              "          const dataTable =\n",
              "            await google.colab.kernel.invokeFunction('convertToInteractive',\n",
              "                                                     [key], {});\n",
              "          if (!dataTable) return;\n",
              "\n",
              "          const docLinkHtml = 'Like what you see? Visit the ' +\n",
              "            '<a target=\"_blank\" href=https://colab.research.google.com/notebooks/data_table.ipynb>data table notebook</a>'\n",
              "            + ' to learn more about interactive tables.';\n",
              "          element.innerHTML = '';\n",
              "          dataTable['output_type'] = 'display_data';\n",
              "          await google.colab.output.renderOutput(dataTable, element);\n",
              "          const docLink = document.createElement('div');\n",
              "          docLink.innerHTML = docLinkHtml;\n",
              "          element.appendChild(docLink);\n",
              "        }\n",
              "      </script>\n",
              "    </div>\n",
              "  </div>\n",
              "  "
            ]
          },
          "metadata": {},
          "execution_count": 29
        }
      ]
    },
    {
      "cell_type": "markdown",
      "source": [
        "#**Conclusion** "
      ],
      "metadata": {
        "id": "Py8oiJ0zhlrD"
      }
    },
    {
      "cell_type": "markdown",
      "source": [
        "Based off our data metrics of the various models, the best performing models are the XGBoost and Random Forest regressor models. They have the lowest mean absolute error and their R-Squared score are the closest to the value of 1 for their testing data. Comparing the two, XGBoost performs better in the mean absolute error and the R-squared statistic, making it the most optimal model of the several tested to use."
      ],
      "metadata": {
        "id": "FHsetVymhBS5"
      }
    }
  ]
}
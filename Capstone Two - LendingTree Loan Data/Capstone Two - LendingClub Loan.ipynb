{
 "cells": [
  {
   "cell_type": "markdown",
   "metadata": {},
   "source": [
    "Capstone Two - Data Wrangling"
   ]
  },
  {
   "cell_type": "markdown",
   "metadata": {},
   "source": [
    "The goal of this capstone is to figure out if LendingClub would provide me a loan that is financially cheaper than one from my bank. The process will be accomplished via generating a model from an existing real data set from kaggle, to predict the interest rate on a loan from the lending tree for my specific case.   "
   ]
  },
  {
   "cell_type": "markdown",
   "metadata": {},
   "source": [
    "## Data Collection:"
   ]
  },
  {
   "cell_type": "code",
   "execution_count": 107,
   "metadata": {},
   "outputs": [
    {
     "name": "stdout",
     "output_type": "stream",
     "text": [
      "C:\\Users\\Raymond\\Capstone Two - LendingTree Loan Data\n"
     ]
    }
   ],
   "source": [
    "#Import pandas, matplotlib.pyplot, seaborn\n",
    "import pandas as pd\n",
    "import matplotlib.pyplot as plt\n",
    "import seaborn as sns\n",
    "import os\n",
    "print(os.getcwd())\n",
    "from sb_utils import save_file"
   ]
  },
  {
   "cell_type": "code",
   "execution_count": 18,
   "metadata": {},
   "outputs": [],
   "source": [
    "#data is from 2007-2010, and publicly available from LendingClub.com\n",
    "#importing loan data\n",
    "loan_data = pd.read_csv('loan_data.csv')"
   ]
  },
  {
   "cell_type": "code",
   "execution_count": 19,
   "metadata": {},
   "outputs": [
    {
     "name": "stdout",
     "output_type": "stream",
     "text": [
      "<class 'pandas.core.frame.DataFrame'>\n",
      "RangeIndex: 9578 entries, 0 to 9577\n",
      "Data columns (total 14 columns):\n",
      " #   Column             Non-Null Count  Dtype  \n",
      "---  ------             --------------  -----  \n",
      " 0   credit.policy      9578 non-null   int64  \n",
      " 1   purpose            9578 non-null   object \n",
      " 2   int.rate           9578 non-null   float64\n",
      " 3   installment        9578 non-null   float64\n",
      " 4   log.annual.inc     9578 non-null   float64\n",
      " 5   dti                9578 non-null   float64\n",
      " 6   fico               9578 non-null   int64  \n",
      " 7   days.with.cr.line  9578 non-null   float64\n",
      " 8   revol.bal          9578 non-null   int64  \n",
      " 9   revol.util         9578 non-null   float64\n",
      " 10  inq.last.6mths     9578 non-null   int64  \n",
      " 11  delinq.2yrs        9578 non-null   int64  \n",
      " 12  pub.rec            9578 non-null   int64  \n",
      " 13  not.fully.paid     9578 non-null   int64  \n",
      "dtypes: float64(6), int64(7), object(1)\n",
      "memory usage: 1.0+ MB\n"
     ]
    }
   ],
   "source": [
    "loan_data.info()"
   ]
  },
  {
   "cell_type": "code",
   "execution_count": 20,
   "metadata": {
    "scrolled": true
   },
   "outputs": [
    {
     "data": {
      "text/plain": [
       "<bound method DataFrame.info of       credit.policy             purpose  int.rate  installment  \\\n",
       "0                 1  debt_consolidation    0.1189       829.10   \n",
       "1                 1         credit_card    0.1071       228.22   \n",
       "2                 1  debt_consolidation    0.1357       366.86   \n",
       "3                 1  debt_consolidation    0.1008       162.34   \n",
       "4                 1         credit_card    0.1426       102.92   \n",
       "...             ...                 ...       ...          ...   \n",
       "9573              0           all_other    0.1461       344.76   \n",
       "9574              0           all_other    0.1253       257.70   \n",
       "9575              0  debt_consolidation    0.1071        97.81   \n",
       "9576              0    home_improvement    0.1600       351.58   \n",
       "9577              0  debt_consolidation    0.1392       853.43   \n",
       "\n",
       "      log.annual.inc    dti  fico  days.with.cr.line  revol.bal  revol.util  \\\n",
       "0          11.350407  19.48   737        5639.958333      28854        52.1   \n",
       "1          11.082143  14.29   707        2760.000000      33623        76.7   \n",
       "2          10.373491  11.63   682        4710.000000       3511        25.6   \n",
       "3          11.350407   8.10   712        2699.958333      33667        73.2   \n",
       "4          11.299732  14.97   667        4066.000000       4740        39.5   \n",
       "...              ...    ...   ...                ...        ...         ...   \n",
       "9573       12.180755  10.39   672       10474.000000     215372        82.1   \n",
       "9574       11.141862   0.21   722        4380.000000        184         1.1   \n",
       "9575       10.596635  13.09   687        3450.041667      10036        82.9   \n",
       "9576       10.819778  19.18   692        1800.000000          0         3.2   \n",
       "9577       11.264464  16.28   732        4740.000000      37879        57.0   \n",
       "\n",
       "      inq.last.6mths  delinq.2yrs  pub.rec  not.fully.paid  \n",
       "0                  0            0        0               0  \n",
       "1                  0            0        0               0  \n",
       "2                  1            0        0               0  \n",
       "3                  1            0        0               0  \n",
       "4                  0            1        0               0  \n",
       "...              ...          ...      ...             ...  \n",
       "9573               2            0        0               1  \n",
       "9574               5            0        0               1  \n",
       "9575               8            0        0               1  \n",
       "9576               5            0        0               1  \n",
       "9577               6            0        0               1  \n",
       "\n",
       "[9578 rows x 14 columns]>"
      ]
     },
     "execution_count": 20,
     "metadata": {},
     "output_type": "execute_result"
    }
   ],
   "source": [
    "loan_data.info"
   ]
  },
  {
   "cell_type": "markdown",
   "metadata": {},
   "source": [
    "### DATA DEFINITION:"
   ]
  },
  {
   "cell_type": "markdown",
   "metadata": {},
   "source": [
    "Column Names(Features) and their Descriptions:\n",
    "\n",
    "1. credit_policy (int)- if the customer meets the credit underwriting criteria of LendingClub.com, and 0 otherwise.\n",
    "\n",
    "2. purpose (str) - The purpose of the loan (takes values \"creditcard\", \"debtconsolidation\", \"educational\", \"majorpurchase\", \"smallbusiness\", and \"all_other\"). \n",
    "\n",
    "3. interest_rate (float) - The interest rate of the loan, as a proportion (a rate of 11% would be stored as 0.11). Borrowers judged by LendingClub.com to be more risky are assigned higher interest rates.\n",
    "\n",
    "4. installment (float) - The monthly installments owed by the borrower if the loan is funded.\n",
    "\n",
    "5. log_annual_income (float) -  The natural log of the self-reported annual income of the borrower.\n",
    "\n",
    "6. debt_to_income_ratio (float)- The debt-to-income ratio of the borrower (amount of debt divided by annual income). \n",
    "\n",
    "7. fico (int)- The FICO credit score of the borrower.\n",
    "\n",
    "8. days_with_credit_line (float)- The number of days the borrower has had a credit line. This is most likely the average age of open accounts like credit cards.\n",
    "\n",
    "9. revolving_balance: The borrower's revolving balance (amount unpaid at the end of the credit card billing cycle).\n",
    "\n",
    "10. revolving_utilization: The borrower's revolving line utilization rate (the amount of the credit line used relative to total credit available).\n",
    "\n",
    "11. inquiries_last_6months: The borrower's number of (HARD) inquiries by creditors in the last 6 months.\n",
    "\n",
    "12. delinquency_2yrs: The number of times the borrower had been 30+ days past due on a payment in the past 2 years.\n",
    "\n",
    "13. public_record: The borrower's number of derogatory public records (bankruptcy filings, tax liens, or judgments).\n",
    "\n",
    "14. not_fully_paid - 1 loan debt is paid off, 0 the debt is not paid off yet\n"
   ]
  },
  {
   "cell_type": "code",
   "execution_count": 21,
   "metadata": {
    "scrolled": false
   },
   "outputs": [
    {
     "data": {
      "text/html": [
       "<div>\n",
       "<style scoped>\n",
       "    .dataframe tbody tr th:only-of-type {\n",
       "        vertical-align: middle;\n",
       "    }\n",
       "\n",
       "    .dataframe tbody tr th {\n",
       "        vertical-align: top;\n",
       "    }\n",
       "\n",
       "    .dataframe thead th {\n",
       "        text-align: right;\n",
       "    }\n",
       "</style>\n",
       "<table border=\"1\" class=\"dataframe\">\n",
       "  <thead>\n",
       "    <tr style=\"text-align: right;\">\n",
       "      <th></th>\n",
       "      <th>credit.policy</th>\n",
       "      <th>purpose</th>\n",
       "      <th>int.rate</th>\n",
       "      <th>installment</th>\n",
       "      <th>log.annual.inc</th>\n",
       "      <th>dti</th>\n",
       "      <th>fico</th>\n",
       "      <th>days.with.cr.line</th>\n",
       "      <th>revol.bal</th>\n",
       "      <th>revol.util</th>\n",
       "      <th>inq.last.6mths</th>\n",
       "      <th>delinq.2yrs</th>\n",
       "      <th>pub.rec</th>\n",
       "      <th>not.fully.paid</th>\n",
       "    </tr>\n",
       "  </thead>\n",
       "  <tbody>\n",
       "    <tr>\n",
       "      <th>0</th>\n",
       "      <td>1</td>\n",
       "      <td>debt_consolidation</td>\n",
       "      <td>0.1189</td>\n",
       "      <td>829.10</td>\n",
       "      <td>11.350407</td>\n",
       "      <td>19.48</td>\n",
       "      <td>737</td>\n",
       "      <td>5639.958333</td>\n",
       "      <td>28854</td>\n",
       "      <td>52.1</td>\n",
       "      <td>0</td>\n",
       "      <td>0</td>\n",
       "      <td>0</td>\n",
       "      <td>0</td>\n",
       "    </tr>\n",
       "    <tr>\n",
       "      <th>1</th>\n",
       "      <td>1</td>\n",
       "      <td>credit_card</td>\n",
       "      <td>0.1071</td>\n",
       "      <td>228.22</td>\n",
       "      <td>11.082143</td>\n",
       "      <td>14.29</td>\n",
       "      <td>707</td>\n",
       "      <td>2760.000000</td>\n",
       "      <td>33623</td>\n",
       "      <td>76.7</td>\n",
       "      <td>0</td>\n",
       "      <td>0</td>\n",
       "      <td>0</td>\n",
       "      <td>0</td>\n",
       "    </tr>\n",
       "    <tr>\n",
       "      <th>2</th>\n",
       "      <td>1</td>\n",
       "      <td>debt_consolidation</td>\n",
       "      <td>0.1357</td>\n",
       "      <td>366.86</td>\n",
       "      <td>10.373491</td>\n",
       "      <td>11.63</td>\n",
       "      <td>682</td>\n",
       "      <td>4710.000000</td>\n",
       "      <td>3511</td>\n",
       "      <td>25.6</td>\n",
       "      <td>1</td>\n",
       "      <td>0</td>\n",
       "      <td>0</td>\n",
       "      <td>0</td>\n",
       "    </tr>\n",
       "    <tr>\n",
       "      <th>3</th>\n",
       "      <td>1</td>\n",
       "      <td>debt_consolidation</td>\n",
       "      <td>0.1008</td>\n",
       "      <td>162.34</td>\n",
       "      <td>11.350407</td>\n",
       "      <td>8.10</td>\n",
       "      <td>712</td>\n",
       "      <td>2699.958333</td>\n",
       "      <td>33667</td>\n",
       "      <td>73.2</td>\n",
       "      <td>1</td>\n",
       "      <td>0</td>\n",
       "      <td>0</td>\n",
       "      <td>0</td>\n",
       "    </tr>\n",
       "    <tr>\n",
       "      <th>4</th>\n",
       "      <td>1</td>\n",
       "      <td>credit_card</td>\n",
       "      <td>0.1426</td>\n",
       "      <td>102.92</td>\n",
       "      <td>11.299732</td>\n",
       "      <td>14.97</td>\n",
       "      <td>667</td>\n",
       "      <td>4066.000000</td>\n",
       "      <td>4740</td>\n",
       "      <td>39.5</td>\n",
       "      <td>0</td>\n",
       "      <td>1</td>\n",
       "      <td>0</td>\n",
       "      <td>0</td>\n",
       "    </tr>\n",
       "  </tbody>\n",
       "</table>\n",
       "</div>"
      ],
      "text/plain": [
       "   credit.policy             purpose  int.rate  installment  log.annual.inc  \\\n",
       "0              1  debt_consolidation    0.1189       829.10       11.350407   \n",
       "1              1         credit_card    0.1071       228.22       11.082143   \n",
       "2              1  debt_consolidation    0.1357       366.86       10.373491   \n",
       "3              1  debt_consolidation    0.1008       162.34       11.350407   \n",
       "4              1         credit_card    0.1426       102.92       11.299732   \n",
       "\n",
       "     dti  fico  days.with.cr.line  revol.bal  revol.util  inq.last.6mths  \\\n",
       "0  19.48   737        5639.958333      28854        52.1               0   \n",
       "1  14.29   707        2760.000000      33623        76.7               0   \n",
       "2  11.63   682        4710.000000       3511        25.6               1   \n",
       "3   8.10   712        2699.958333      33667        73.2               1   \n",
       "4  14.97   667        4066.000000       4740        39.5               0   \n",
       "\n",
       "   delinq.2yrs  pub.rec  not.fully.paid  \n",
       "0            0        0               0  \n",
       "1            0        0               0  \n",
       "2            0        0               0  \n",
       "3            0        0               0  \n",
       "4            1        0               0  "
      ]
     },
     "execution_count": 21,
     "metadata": {},
     "output_type": "execute_result"
    }
   ],
   "source": [
    "loan_data.head()"
   ]
  },
  {
   "cell_type": "code",
   "execution_count": 22,
   "metadata": {
    "scrolled": false
   },
   "outputs": [
    {
     "data": {
      "text/html": [
       "<div>\n",
       "<style scoped>\n",
       "    .dataframe tbody tr th:only-of-type {\n",
       "        vertical-align: middle;\n",
       "    }\n",
       "\n",
       "    .dataframe tbody tr th {\n",
       "        vertical-align: top;\n",
       "    }\n",
       "\n",
       "    .dataframe thead th {\n",
       "        text-align: right;\n",
       "    }\n",
       "</style>\n",
       "<table border=\"1\" class=\"dataframe\">\n",
       "  <thead>\n",
       "    <tr style=\"text-align: right;\">\n",
       "      <th></th>\n",
       "      <th>credit.policy</th>\n",
       "      <th>purpose</th>\n",
       "      <th>int.rate</th>\n",
       "      <th>installment</th>\n",
       "      <th>log.annual.inc</th>\n",
       "      <th>dti</th>\n",
       "      <th>fico</th>\n",
       "      <th>days.with.cr.line</th>\n",
       "      <th>revol.bal</th>\n",
       "      <th>revol.util</th>\n",
       "      <th>inq.last.6mths</th>\n",
       "      <th>delinq.2yrs</th>\n",
       "      <th>pub.rec</th>\n",
       "      <th>not.fully.paid</th>\n",
       "    </tr>\n",
       "  </thead>\n",
       "  <tbody>\n",
       "    <tr>\n",
       "      <th>9573</th>\n",
       "      <td>0</td>\n",
       "      <td>all_other</td>\n",
       "      <td>0.1461</td>\n",
       "      <td>344.76</td>\n",
       "      <td>12.180755</td>\n",
       "      <td>10.39</td>\n",
       "      <td>672</td>\n",
       "      <td>10474.000000</td>\n",
       "      <td>215372</td>\n",
       "      <td>82.1</td>\n",
       "      <td>2</td>\n",
       "      <td>0</td>\n",
       "      <td>0</td>\n",
       "      <td>1</td>\n",
       "    </tr>\n",
       "    <tr>\n",
       "      <th>9574</th>\n",
       "      <td>0</td>\n",
       "      <td>all_other</td>\n",
       "      <td>0.1253</td>\n",
       "      <td>257.70</td>\n",
       "      <td>11.141862</td>\n",
       "      <td>0.21</td>\n",
       "      <td>722</td>\n",
       "      <td>4380.000000</td>\n",
       "      <td>184</td>\n",
       "      <td>1.1</td>\n",
       "      <td>5</td>\n",
       "      <td>0</td>\n",
       "      <td>0</td>\n",
       "      <td>1</td>\n",
       "    </tr>\n",
       "    <tr>\n",
       "      <th>9575</th>\n",
       "      <td>0</td>\n",
       "      <td>debt_consolidation</td>\n",
       "      <td>0.1071</td>\n",
       "      <td>97.81</td>\n",
       "      <td>10.596635</td>\n",
       "      <td>13.09</td>\n",
       "      <td>687</td>\n",
       "      <td>3450.041667</td>\n",
       "      <td>10036</td>\n",
       "      <td>82.9</td>\n",
       "      <td>8</td>\n",
       "      <td>0</td>\n",
       "      <td>0</td>\n",
       "      <td>1</td>\n",
       "    </tr>\n",
       "    <tr>\n",
       "      <th>9576</th>\n",
       "      <td>0</td>\n",
       "      <td>home_improvement</td>\n",
       "      <td>0.1600</td>\n",
       "      <td>351.58</td>\n",
       "      <td>10.819778</td>\n",
       "      <td>19.18</td>\n",
       "      <td>692</td>\n",
       "      <td>1800.000000</td>\n",
       "      <td>0</td>\n",
       "      <td>3.2</td>\n",
       "      <td>5</td>\n",
       "      <td>0</td>\n",
       "      <td>0</td>\n",
       "      <td>1</td>\n",
       "    </tr>\n",
       "    <tr>\n",
       "      <th>9577</th>\n",
       "      <td>0</td>\n",
       "      <td>debt_consolidation</td>\n",
       "      <td>0.1392</td>\n",
       "      <td>853.43</td>\n",
       "      <td>11.264464</td>\n",
       "      <td>16.28</td>\n",
       "      <td>732</td>\n",
       "      <td>4740.000000</td>\n",
       "      <td>37879</td>\n",
       "      <td>57.0</td>\n",
       "      <td>6</td>\n",
       "      <td>0</td>\n",
       "      <td>0</td>\n",
       "      <td>1</td>\n",
       "    </tr>\n",
       "  </tbody>\n",
       "</table>\n",
       "</div>"
      ],
      "text/plain": [
       "      credit.policy             purpose  int.rate  installment  \\\n",
       "9573              0           all_other    0.1461       344.76   \n",
       "9574              0           all_other    0.1253       257.70   \n",
       "9575              0  debt_consolidation    0.1071        97.81   \n",
       "9576              0    home_improvement    0.1600       351.58   \n",
       "9577              0  debt_consolidation    0.1392       853.43   \n",
       "\n",
       "      log.annual.inc    dti  fico  days.with.cr.line  revol.bal  revol.util  \\\n",
       "9573       12.180755  10.39   672       10474.000000     215372        82.1   \n",
       "9574       11.141862   0.21   722        4380.000000        184         1.1   \n",
       "9575       10.596635  13.09   687        3450.041667      10036        82.9   \n",
       "9576       10.819778  19.18   692        1800.000000          0         3.2   \n",
       "9577       11.264464  16.28   732        4740.000000      37879        57.0   \n",
       "\n",
       "      inq.last.6mths  delinq.2yrs  pub.rec  not.fully.paid  \n",
       "9573               2            0        0               1  \n",
       "9574               5            0        0               1  \n",
       "9575               8            0        0               1  \n",
       "9576               5            0        0               1  \n",
       "9577               6            0        0               1  "
      ]
     },
     "execution_count": 22,
     "metadata": {},
     "output_type": "execute_result"
    }
   ],
   "source": [
    "loan_data.tail()"
   ]
  },
  {
   "cell_type": "markdown",
   "metadata": {},
   "source": [
    "### DATA CLEANING:"
   ]
  },
  {
   "cell_type": "code",
   "execution_count": 26,
   "metadata": {},
   "outputs": [
    {
     "data": {
      "text/plain": [
       "['credit_policy',\n",
       " 'purpose',\n",
       " 'interest_rate',\n",
       " 'installment',\n",
       " 'log_annual_income',\n",
       " 'debt_to_income_ratio',\n",
       " 'fico',\n",
       " 'days_with_credit_line',\n",
       " 'revolving_balance',\n",
       " 'revolving_utilization',\n",
       " 'inquiries_last_6months',\n",
       " 'delinquency_2yrs',\n",
       " 'public_record',\n",
       " 'not_fully_paid']"
      ]
     },
     "execution_count": 26,
     "metadata": {},
     "output_type": "execute_result"
    }
   ],
   "source": [
    "loan_data = loan_data.rename(columns = {\"credit.policy\":\"credit_policy\", \"int.rate\":\"interest_rate\", \"log.annual.inc\":\"log_annual_income\", \"dti\":\"debt_to_income_ratio\", \"days.with.cr.line\":\"days_with_credit_line\", \"revol.bal\":\"revolving_balance\", \"revol.util\":\"revolving_utilization\", \"inq.last.6mths\":\"inquiries_last_6months\", \"delinq.2yrs\":\"delinquency_2yrs\", \"pub.rec\":\"public_record\", \"not.fully.paid\":\"not_fully_paid\"})\n",
    "list(loan_data.columns)"
   ]
  },
  {
   "cell_type": "code",
   "execution_count": 84,
   "metadata": {},
   "outputs": [
    {
     "name": "stdout",
     "output_type": "stream",
     "text": [
      "<class 'pandas.core.frame.DataFrame'>\n",
      "RangeIndex: 9578 entries, 0 to 9577\n",
      "Data columns (total 14 columns):\n",
      " #   Column                  Non-Null Count  Dtype  \n",
      "---  ------                  --------------  -----  \n",
      " 0   credit_policy           9578 non-null   int64  \n",
      " 1   purpose                 9578 non-null   object \n",
      " 2   interest_rate           9578 non-null   float64\n",
      " 3   installment             9578 non-null   float64\n",
      " 4   log_annual_income       9578 non-null   float64\n",
      " 5   debt_to_income_ratio    9578 non-null   float64\n",
      " 6   fico                    9578 non-null   int64  \n",
      " 7   days_with_credit_line   9578 non-null   float64\n",
      " 8   revolving_balance       9578 non-null   int64  \n",
      " 9   revolving_utilization   9578 non-null   float64\n",
      " 10  inquiries_last_6months  9578 non-null   int64  \n",
      " 11  delinquency_2yrs        9578 non-null   int64  \n",
      " 12  public_record           9578 non-null   int64  \n",
      " 13  not_fully_paid          9578 non-null   int64  \n",
      "dtypes: float64(6), int64(7), object(1)\n",
      "memory usage: 1.0+ MB\n",
      "\n",
      "\n",
      "\n",
      "There are no null values in any of the features.\n"
     ]
    }
   ],
   "source": [
    "#Checking for null-values\n",
    "loan_data.info()\n",
    "print('\\n\\n\\nThere are no null values in any of the features.')"
   ]
  },
  {
   "cell_type": "code",
   "execution_count": 85,
   "metadata": {
    "scrolled": true
   },
   "outputs": [
    {
     "name": "stdout",
     "output_type": "stream",
     "text": [
      "List of Credit Policy Values:\n",
      "[0 1]\n",
      "\n",
      "Min Value:0\n",
      "\n",
      "Max Value:1\n"
     ]
    },
    {
     "data": {
      "text/plain": [
       "1    7710\n",
       "0    1868\n",
       "Name: credit_policy, dtype: int64"
      ]
     },
     "execution_count": 85,
     "metadata": {},
     "output_type": "execute_result"
    }
   ],
   "source": [
    "credit_policy_df = loan_data.credit_policy\n",
    "print(\"List of Credit Policy Values:\\n\" + str(credit_policy_df.sort_values().unique()))\n",
    "print('')\n",
    "print(\"Min Value:\" + str(credit_policy_df.min()))\n",
    "print('')\n",
    "print(\"Max Value:\" + str(credit_policy_df.max()))\n",
    "credit_policy_df.value_counts()"
   ]
  },
  {
   "cell_type": "code",
   "execution_count": 86,
   "metadata": {
    "scrolled": true
   },
   "outputs": [
    {
     "name": "stdout",
     "output_type": "stream",
     "text": [
      "['debt_consolidation' 'credit_card' 'all_other' 'home_improvement'\n",
      " 'small_business' 'major_purchase' 'educational']\n"
     ]
    },
    {
     "data": {
      "text/plain": [
       "debt_consolidation    3957\n",
       "all_other             2331\n",
       "credit_card           1262\n",
       "home_improvement       629\n",
       "small_business         619\n",
       "major_purchase         437\n",
       "educational            343\n",
       "Name: purpose, dtype: int64"
      ]
     },
     "execution_count": 86,
     "metadata": {},
     "output_type": "execute_result"
    }
   ],
   "source": [
    "purpose_df = loan_data.purpose\n",
    "print(purpose_df.unique())\n",
    "purpose_df.value_counts()"
   ]
  },
  {
   "cell_type": "code",
   "execution_count": 87,
   "metadata": {},
   "outputs": [
    {
     "name": "stdout",
     "output_type": "stream",
     "text": [
      "List of Interest Rate Values:\n",
      "[0.06   0.0639 0.0676 0.0705 0.0712 0.0714 0.0737 0.074  0.0743 0.0751\n",
      " 0.0768 0.0774 0.0775 0.0788 0.08   0.0807 0.0832 0.0838 0.0859 0.0863\n",
      " 0.087  0.0894 0.0901 0.0907 0.092  0.0932 0.0933 0.0938 0.0945 0.0951\n",
      " 0.0963 0.0964 0.097  0.0976 0.0983 0.0988 0.0996 0.1001 0.1008 0.1014\n",
      " 0.102  0.1025 0.1028 0.1033 0.1039 0.1046 0.1051 0.1059 0.1062 0.1064\n",
      " 0.1071 0.1078 0.1083 0.1091 0.1095 0.1096 0.1099 0.1103 0.1109 0.1114\n",
      " 0.1122 0.1126 0.1128 0.1134 0.1136 0.1141 0.1146 0.1148 0.1154 0.1158\n",
      " 0.1159 0.1166 0.1172 0.1178 0.1183 0.1186 0.1189 0.1191 0.1197 0.1204\n",
      " 0.1209 0.1217 0.1218 0.1221 0.1222 0.1229 0.1236 0.1241 0.1249 0.1253\n",
      " 0.1254 0.1261 0.1267 0.1272 0.1273 0.128  0.1284 0.1286 0.1287 0.1292\n",
      " 0.1299 0.1304 0.1311 0.1312 0.1316 0.1317 0.1322 0.1324 0.133  0.1336\n",
      " 0.1343 0.1347 0.1348 0.1349 0.1355 0.1357 0.1362 0.1367 0.1375 0.1379\n",
      " 0.138  0.1385 0.1387 0.1392 0.1393 0.1399 0.1407 0.1411 0.1412 0.1418\n",
      " 0.1422 0.1425 0.1426 0.143  0.1438 0.1442 0.1443 0.145  0.1457 0.1459\n",
      " 0.1461 0.1462 0.1467 0.147  0.1474 0.1475 0.1482 0.1488 0.1493 0.1496\n",
      " 0.1501 0.1505 0.1507 0.1513 0.152  0.1525 0.1531 0.1533 0.1537 0.1538\n",
      " 0.1545 0.1551 0.1557 0.1565 0.1568 0.157  0.1576 0.1583 0.1588 0.1596\n",
      " 0.16   0.1601 0.1607 0.1608 0.1615 0.162  0.1628 0.1632 0.1633 0.1635\n",
      " 0.164  0.1645 0.1646 0.1659 0.1663 0.1665 0.167  0.1671 0.1682 0.1683\n",
      " 0.1691 0.1695 0.1696 0.1703 0.1704 0.1709 0.1715 0.1719 0.1722 0.1726\n",
      " 0.1728 0.1734 0.1739 0.1741 0.1746 0.1754 0.1756 0.1758 0.1759 0.1766\n",
      " 0.1772 0.1774 0.1778 0.1786 0.179  0.1791 0.1793 0.1797 0.1804 0.1809\n",
      " 0.1821 0.1829 0.183  0.1836 0.1843 0.1853 0.1854 0.1861 0.1867 0.1872\n",
      " 0.1878 0.1884 0.1886 0.1904 0.1913 0.1916 0.1936 0.1941 0.1947 0.1979\n",
      " 0.1982 0.2011 0.2016 0.2017 0.2052 0.2086 0.209  0.2121 0.2164]\n",
      "\n",
      "Min Value:0.06\n",
      "\n",
      "Max Value:0.2164\n"
     ]
    },
    {
     "data": {
      "text/plain": [
       "0.1253    354\n",
       "0.0894    299\n",
       "0.1183    243\n",
       "0.1218    215\n",
       "0.0963    210\n",
       "         ... \n",
       "0.1941      1\n",
       "0.1741      1\n",
       "0.1620      1\n",
       "0.1746      1\n",
       "0.1756      1\n",
       "Name: interest_rate, Length: 249, dtype: int64"
      ]
     },
     "execution_count": 87,
     "metadata": {},
     "output_type": "execute_result"
    }
   ],
   "source": [
    "interest_rate_df = loan_data.interest_rate\n",
    "print(\"List of Interest Rate Values:\\n\" + str(interest_rate_df.sort_values().unique()))\n",
    "print('')\n",
    "print(\"Min Value:\" + str(interest_rate_df.min()))\n",
    "print('')\n",
    "print(\"Max Value:\" + str(interest_rate_df.max()))\n",
    "interest_rate_df.value_counts()"
   ]
  },
  {
   "cell_type": "code",
   "execution_count": 102,
   "metadata": {},
   "outputs": [
    {
     "name": "stdout",
     "output_type": "stream",
     "text": [
      "List of Installment Values:\n",
      "[ 15.67  15.69  15.75 ... 922.42 926.83 940.14]\n",
      "\n",
      "Min Value:15.67\n",
      "15.67 translates to approximately 1.25 years\n",
      "Max Value:940.14\n",
      "940.14 translates to approximately 78.3 years\n",
      "Mode Value is approximately 318 months, which translates to 26.5 years\n"
     ]
    },
    {
     "data": {
      "text/plain": [
       "317.72    41\n",
       "316.11    34\n",
       "319.47    29\n",
       "381.26    27\n",
       "662.68    27\n",
       "          ..\n",
       "248.43     1\n",
       "181.57     1\n",
       "197.18     1\n",
       "515.46     1\n",
       "258.68     1\n",
       "Name: installment, Length: 4788, dtype: int64"
      ]
     },
     "execution_count": 102,
     "metadata": {},
     "output_type": "execute_result"
    }
   ],
   "source": [
    "installment_df = loan_data.installment\n",
    "print(\"List of Installment Values:\\n\" + str(installment_df.sort_values().unique()))\n",
    "print('')\n",
    "print(\"Min Value:\" + str(installment_df.min()))\n",
    "print('15.67 translates to approximately 1.25 years')\n",
    "print(\"Max Value:\" + str(installment_df.max()))\n",
    "print('940.14 translates to approximately 78.3 years')\n",
    "print(\"Mode Value is approximately 318 months, which translates to 26.5 years\")\n",
    "installment_df.value_counts()"
   ]
  },
  {
   "cell_type": "code",
   "execution_count": 104,
   "metadata": {},
   "outputs": [
    {
     "name": "stdout",
     "output_type": "stream",
     "text": [
      "List of Log of Annual Income Values:\n",
      "[ 7.54750168  7.60090246  8.10167775 ... 14.12446477 14.18015367\n",
      " 14.52835448]\n",
      "\n",
      "Min Value:7.547501682999999\n",
      "7.54 translates to an annual income of approximately 1881$\n",
      "Max Value:14.52835448\n",
      "14.52 translates to an annual income of approximately 2 Million $\n"
     ]
    },
    {
     "data": {
      "text/plain": [
       "11.002100    308\n",
       "10.819778    248\n",
       "10.596635    224\n",
       "10.308953    224\n",
       "10.714418    221\n",
       "            ... \n",
       "9.229358       1\n",
       "10.381087      1\n",
       "10.471638      1\n",
       "11.492641      1\n",
       "12.223421      1\n",
       "Name: log_annual_income, Length: 1987, dtype: int64"
      ]
     },
     "execution_count": 104,
     "metadata": {},
     "output_type": "execute_result"
    }
   ],
   "source": [
    "log_annual_income_df = loan_data.log_annual_income\n",
    "print(\"List of Log of Annual Income Values:\\n\" + str(log_annual_income_df.sort_values().unique()))\n",
    "print('')\n",
    "print(\"Min Value:\" + str(log_annual_income_df.min()))\n",
    "print('7.54 translates to an annual income of approximately 1881$')\n",
    "print(\"Max Value:\" + str(log_annual_income_df.max()))\n",
    "print('14.52 translates to an annual income of approximately 2 Million $')\n",
    "log_annual_income_df.value_counts()"
   ]
  },
  {
   "cell_type": "code",
   "execution_count": 90,
   "metadata": {},
   "outputs": [
    {
     "name": "stdout",
     "output_type": "stream",
     "text": [
      "List of Debt to Income Ratio Values:\n",
      "[0.000e+00 1.000e-02 2.000e-02 ... 2.990e+01 2.995e+01 2.996e+01]\n",
      "\n",
      "Min Value:0.0\n",
      "\n",
      "Max Value:29.96\n"
     ]
    },
    {
     "data": {
      "text/plain": [
       "0.00     89\n",
       "10.00    19\n",
       "0.60     16\n",
       "13.16    13\n",
       "19.20    13\n",
       "         ..\n",
       "28.70     1\n",
       "13.48     1\n",
       "8.07      1\n",
       "28.61     1\n",
       "26.19     1\n",
       "Name: debt_to_income_ratio, Length: 2529, dtype: int64"
      ]
     },
     "execution_count": 90,
     "metadata": {},
     "output_type": "execute_result"
    }
   ],
   "source": [
    "debt_to_income_ratio_df = loan_data.debt_to_income_ratio\n",
    "print(\"List of Debt to Income Ratio Values:\\n\" + str(debt_to_income_ratio_df.sort_values().unique()))\n",
    "print('')\n",
    "print(\"Min Value:\" + str(debt_to_income_ratio_df.min()))\n",
    "print('')\n",
    "print(\"Max Value:\" + str(debt_to_income_ratio_df.max()))\n",
    "debt_to_income_ratio_df.value_counts()"
   ]
  },
  {
   "cell_type": "code",
   "execution_count": 91,
   "metadata": {},
   "outputs": [
    {
     "name": "stdout",
     "output_type": "stream",
     "text": [
      "List of FICO score Values:\n",
      "[612 617 622 627 632 637 642 647 652 657 662 667 672 677 682 687 692 697\n",
      " 702 707 712 717 722 727 732 737 742 747 752 757 762 767 772 777 782 787\n",
      " 792 797 802 807 812 817 822 827]\n",
      "\n",
      "Min Value:612\n",
      "\n",
      "Max Value:827\n"
     ]
    },
    {
     "data": {
      "text/plain": [
       "687    548\n",
       "682    536\n",
       "692    498\n",
       "697    476\n",
       "702    472\n",
       "707    444\n",
       "667    438\n",
       "677    427\n",
       "717    424\n",
       "662    414\n",
       "712    395\n",
       "672    395\n",
       "722    388\n",
       "727    361\n",
       "732    330\n",
       "742    324\n",
       "737    313\n",
       "752    258\n",
       "747    236\n",
       "757    231\n",
       "762    220\n",
       "772    158\n",
       "767    142\n",
       "777    140\n",
       "652    131\n",
       "657    127\n",
       "782    118\n",
       "647    112\n",
       "642    102\n",
       "792     97\n",
       "787     85\n",
       "797     76\n",
       "802     55\n",
       "807     45\n",
       "812     33\n",
       "632      6\n",
       "817      6\n",
       "637      5\n",
       "822      5\n",
       "627      2\n",
       "612      2\n",
       "617      1\n",
       "622      1\n",
       "827      1\n",
       "Name: fico, dtype: int64"
      ]
     },
     "execution_count": 91,
     "metadata": {},
     "output_type": "execute_result"
    }
   ],
   "source": [
    "fico_df = loan_data.fico\n",
    "print(\"List of FICO score Values:\\n\" + str(fico_df.sort_values().unique()))\n",
    "print('')\n",
    "print(\"Min Value:\" + str(fico_df.min()))\n",
    "print('')\n",
    "print(\"Max Value:\" + str(fico_df.max()))\n",
    "fico_df.value_counts()"
   ]
  },
  {
   "cell_type": "code",
   "execution_count": 92,
   "metadata": {},
   "outputs": [
    {
     "name": "stdout",
     "output_type": "stream",
     "text": [
      "List of days with credit line Values:\n",
      "[  178.9583333   180.0416667   181.        ... 16652.        17616.\n",
      " 17639.95833  ]\n",
      "\n",
      "Min Value:612\n",
      "\n",
      "Max Value:827\n"
     ]
    },
    {
     "data": {
      "text/plain": [
       "3660.000000    50\n",
       "3630.000000    48\n",
       "3990.000000    46\n",
       "4410.000000    44\n",
       "3600.000000    41\n",
       "               ..\n",
       "3000.958333     1\n",
       "2807.041667     1\n",
       "7779.000000     1\n",
       "2013.958333     1\n",
       "9719.041667     1\n",
       "Name: days_with_credit_line, Length: 2687, dtype: int64"
      ]
     },
     "execution_count": 92,
     "metadata": {},
     "output_type": "execute_result"
    }
   ],
   "source": [
    "days_with_credit_line_df = loan_data.days_with_credit_line\n",
    "print(\"List of days with credit line Values:\\n\" + str(days_with_credit_line_df.sort_values().unique()))\n",
    "print('')\n",
    "print(\"Min Value:\" + str(fico_df.min()))\n",
    "print('')\n",
    "print(\"Max Value:\" + str(fico_df.max()))\n",
    "days_with_credit_line_df.value_counts()"
   ]
  },
  {
   "cell_type": "code",
   "execution_count": 93,
   "metadata": {},
   "outputs": [
    {
     "name": "stdout",
     "output_type": "stream",
     "text": [
      "List of Revolving Balance Values:\n",
      "[      0       1       2 ...  602519  952013 1207359]\n",
      "\n",
      "Min Value:0\n",
      "\n",
      "Max Value:1207359\n"
     ]
    },
    {
     "data": {
      "text/plain": [
       "0        321\n",
       "255       10\n",
       "298       10\n",
       "682        9\n",
       "346        8\n",
       "        ... \n",
       "14538      1\n",
       "33761      1\n",
       "18636      1\n",
       "205        1\n",
       "8128       1\n",
       "Name: revolving_balance, Length: 7869, dtype: int64"
      ]
     },
     "execution_count": 93,
     "metadata": {},
     "output_type": "execute_result"
    }
   ],
   "source": [
    "revolving_balance_df = loan_data.revolving_balance\n",
    "print(\"List of Revolving Balance Values:\\n\" + str(revolving_balance_df.sort_values().unique()))\n",
    "print('')\n",
    "print(\"Min Value:\" + str(revolving_balance_df.min()))\n",
    "print('')\n",
    "print(\"Max Value:\" + str(revolving_balance_df.max()))\n",
    "revolving_balance_df.value_counts()"
   ]
  },
  {
   "cell_type": "code",
   "execution_count": 95,
   "metadata": {},
   "outputs": [
    {
     "name": "stdout",
     "output_type": "stream",
     "text": [
      "List of Revolving Utilization of Credit line Values:\n",
      "[0.000e+00 4.000e-02 1.000e-01 ... 1.065e+02 1.088e+02 1.190e+02]\n",
      "\n",
      "Min Value:0.0\n",
      "\n",
      "Max Value:119.0\n"
     ]
    },
    {
     "data": {
      "text/plain": [
       "0.00      297\n",
       "0.50       26\n",
       "0.30       22\n",
       "73.70      22\n",
       "47.80      22\n",
       "         ... \n",
       "49.63       1\n",
       "102.80      1\n",
       "69.14       1\n",
       "102.70      1\n",
       "105.70      1\n",
       "Name: revolving_utilization, Length: 1035, dtype: int64"
      ]
     },
     "execution_count": 95,
     "metadata": {},
     "output_type": "execute_result"
    }
   ],
   "source": [
    "revolving_utilization_df = loan_data.revolving_utilization\n",
    "print(\"List of Revolving Utilization of Credit line Values:\\n\" + str(revolving_utilization_df.sort_values().unique()))\n",
    "print('')\n",
    "print(\"Min Value:\" + str(revolving_utilization_df.min()))\n",
    "print('')\n",
    "print(\"Max Value:\" + str(revolving_utilization_df.max()))\n",
    "revolving_utilization_df.value_counts()"
   ]
  },
  {
   "cell_type": "code",
   "execution_count": 97,
   "metadata": {},
   "outputs": [
    {
     "name": "stdout",
     "output_type": "stream",
     "text": [
      "List of Hard inquiries in the past 6 months Values:\n",
      "[ 0  1  2  3  4  5  6  7  8  9 10 11 12 13 14 15 16 17 18 19 20 24 25 27\n",
      " 28 31 32 33]\n",
      "\n",
      "Min Value:0\n",
      "\n",
      "Max Value:33\n"
     ]
    },
    {
     "data": {
      "text/plain": [
       "0     3637\n",
       "1     2462\n",
       "2     1384\n",
       "3      864\n",
       "4      475\n",
       "5      278\n",
       "6      165\n",
       "7      100\n",
       "8       72\n",
       "9       47\n",
       "10      23\n",
       "11      15\n",
       "12      15\n",
       "15       9\n",
       "13       6\n",
       "14       6\n",
       "18       4\n",
       "16       3\n",
       "24       2\n",
       "19       2\n",
       "17       2\n",
       "27       1\n",
       "28       1\n",
       "25       1\n",
       "32       1\n",
       "20       1\n",
       "33       1\n",
       "31       1\n",
       "Name: inquiries_last_6months, dtype: int64"
      ]
     },
     "execution_count": 97,
     "metadata": {},
     "output_type": "execute_result"
    }
   ],
   "source": [
    "inquiries_last_6months_df = loan_data.inquiries_last_6months\n",
    "print(\"List of Hard inquiries in the past 6 months Values:\\n\" + str(inquiries_last_6months_df.sort_values().unique()))\n",
    "print('')\n",
    "print(\"Min Value:\" + str(inquiries_last_6months_df.min()))\n",
    "print('')\n",
    "print(\"Max Value:\" + str(inquiries_last_6months_df.max()))\n",
    "inquiries_last_6months_df.value_counts()"
   ]
  },
  {
   "cell_type": "code",
   "execution_count": 98,
   "metadata": {},
   "outputs": [
    {
     "name": "stdout",
     "output_type": "stream",
     "text": [
      "List of Delinquencies in the past 2 years Values:\n",
      "[ 0  1  2  3  4  5  6  7  8 11 13]\n",
      "\n",
      "Min Value:0\n",
      "\n",
      "Max Value:13\n"
     ]
    },
    {
     "data": {
      "text/plain": [
       "0     8458\n",
       "1      832\n",
       "2      192\n",
       "3       65\n",
       "4       19\n",
       "5        6\n",
       "6        2\n",
       "7        1\n",
       "13       1\n",
       "11       1\n",
       "8        1\n",
       "Name: delinquency_2yrs, dtype: int64"
      ]
     },
     "execution_count": 98,
     "metadata": {},
     "output_type": "execute_result"
    }
   ],
   "source": [
    "delinquency_2yrs_df = loan_data.delinquency_2yrs\n",
    "print(\"List of Delinquencies in the past 2 years Values:\\n\" + str(delinquency_2yrs_df.sort_values().unique()))\n",
    "print('')\n",
    "print(\"Min Value:\" + str(delinquency_2yrs_df.min()))\n",
    "print('')\n",
    "print(\"Max Value:\" + str(delinquency_2yrs_df.max()))\n",
    "delinquency_2yrs_df.value_counts()"
   ]
  },
  {
   "cell_type": "code",
   "execution_count": 99,
   "metadata": {},
   "outputs": [
    {
     "name": "stdout",
     "output_type": "stream",
     "text": [
      "List of Public Record Values:\n",
      "[0 1 2 3 4 5]\n",
      "\n",
      "Min Value:0\n",
      "\n",
      "Max Value:5\n"
     ]
    },
    {
     "data": {
      "text/plain": [
       "0    9019\n",
       "1     533\n",
       "2      19\n",
       "3       5\n",
       "5       1\n",
       "4       1\n",
       "Name: public_record, dtype: int64"
      ]
     },
     "execution_count": 99,
     "metadata": {},
     "output_type": "execute_result"
    }
   ],
   "source": [
    "public_record_df = loan_data.public_record\n",
    "print(\"List of Public Record Values:\\n\" + str(public_record_df.sort_values().unique()))\n",
    "print('')\n",
    "print(\"Min Value:\" + str(public_record_df.min()))\n",
    "print('')\n",
    "print(\"Max Value:\" + str(public_record_df.max()))\n",
    "public_record_df.value_counts()"
   ]
  },
  {
   "cell_type": "code",
   "execution_count": 100,
   "metadata": {
    "scrolled": true
   },
   "outputs": [
    {
     "name": "stdout",
     "output_type": "stream",
     "text": [
      "List of Not Fully Paid off Values:\n",
      "[0 1]\n",
      "\n",
      "Min Value:0\n",
      "\n",
      "Max Value:1\n"
     ]
    },
    {
     "data": {
      "text/plain": [
       "0    8045\n",
       "1    1533\n",
       "Name: not_fully_paid, dtype: int64"
      ]
     },
     "execution_count": 100,
     "metadata": {},
     "output_type": "execute_result"
    }
   ],
   "source": [
    "not_fully_paid_df = loan_data.not_fully_paid\n",
    "print(\"List of Not Fully Paid off Values:\\n\" + str(not_fully_paid_df.sort_values().unique()))\n",
    "print('')\n",
    "print(\"Min Value:\" + str(not_fully_paid_df.min()))\n",
    "print('')\n",
    "print(\"Max Value:\" + str(not_fully_paid_df.max()))\n",
    "not_fully_paid_df.value_counts()"
   ]
  },
  {
   "cell_type": "code",
   "execution_count": 105,
   "metadata": {},
   "outputs": [],
   "source": [
    "rays_data = [[1,'educational', 'x', 317.72, 11.08, 0.15, 750, 1095, 0, 0, 1, 0, 0, 1]]\n",
    "\n",
    "#interest rate is left as x in ray's data as that is the value we will be solving for in the coming portions of this Capstone Project\n",
    "rays_df = pd.DataFrame(rays_data, columns = ['credit_policy',\n",
    " 'purpose',\n",
    " 'interest_rate',\n",
    " 'installment',\n",
    " 'log_annual_income',\n",
    " 'debt_to_income_ratio',\n",
    " 'fico',\n",
    " 'days_with_credit_line',\n",
    " 'revolving_balance',\n",
    " 'revolving_utilization',\n",
    " 'inquiries_last_6months',\n",
    " 'delinquency_2yrs',\n",
    " 'public_record',\n",
    " 'not_fully_paid'])"
   ]
  },
  {
   "cell_type": "code",
   "execution_count": 106,
   "metadata": {},
   "outputs": [],
   "source": [
    "#INSERT RAYMOND'S DATA FOR LOAN TERMS FROM ANOTHER BANK\n",
    "#Bank of America's Interest Rate\n",
    "boa_int_rate = 0.08"
   ]
  }
 ],
 "metadata": {
  "kernelspec": {
   "display_name": "Python 3",
   "language": "python",
   "name": "python3"
  },
  "language_info": {
   "codemirror_mode": {
    "name": "ipython",
    "version": 3
   },
   "file_extension": ".py",
   "mimetype": "text/x-python",
   "name": "python",
   "nbconvert_exporter": "python",
   "pygments_lexer": "ipython3",
   "version": "3.8.5"
  }
 },
 "nbformat": 4,
 "nbformat_minor": 4
}

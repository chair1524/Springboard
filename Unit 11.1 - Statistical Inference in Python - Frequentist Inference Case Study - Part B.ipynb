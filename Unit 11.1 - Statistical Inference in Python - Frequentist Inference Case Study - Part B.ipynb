{
 "cells": [
  {
   "cell_type": "markdown",
   "metadata": {},
   "source": [
    "# Frequentist Inference Case Study - Part B"
   ]
  },
  {
   "cell_type": "markdown",
   "metadata": {},
   "source": [
    "## Learning objectives"
   ]
  },
  {
   "cell_type": "markdown",
   "metadata": {},
   "source": [
    "Welcome to Part B of the Frequentist inference case study! The purpose of this case study is to help you apply the concepts associated with Frequentist inference in Python. In particular, you'll practice writing Python code to apply the following statistical concepts: \n",
    "* the _z_-statistic\n",
    "* the _t_-statistic\n",
    "* the difference and relationship between the two\n",
    "* the Central Limit Theorem, including its assumptions and consequences\n",
    "* how to estimate the population mean and standard deviation from a sample\n",
    "* the concept of a sampling distribution of a test statistic, particularly for the mean\n",
    "* how to combine these concepts to calculate a confidence interval"
   ]
  },
  {
   "cell_type": "markdown",
   "metadata": {},
   "source": [
    "In the previous notebook, we used only data from a known normal distribution. **You'll now tackle real data, rather than simulated data, and answer some relevant real-world business problems using the data.**"
   ]
  },
  {
   "cell_type": "markdown",
   "metadata": {},
   "source": [
    "## Hospital medical charges"
   ]
  },
  {
   "cell_type": "markdown",
   "metadata": {},
   "source": [
    "Imagine that a hospital has hired you as their data scientist. An administrator is working on the hospital's business operations plan and needs you to help them answer some business questions. \n",
    "\n",
    "In this assignment notebook, you're going to use frequentist statistical inference on a data sample to answer the questions:\n",
    "* has the hospital's revenue stream fallen below a key threshold?\n",
    "* are patients with insurance really charged different amounts than those without?\n",
    "\n",
    "Answering that last question with a frequentist approach makes some assumptions, and requires some knowledge, about the two groups."
   ]
  },
  {
   "cell_type": "markdown",
   "metadata": {},
   "source": [
    "We are going to use some data on medical charges obtained from [Kaggle](https://www.kaggle.com/easonlai/sample-insurance-claim-prediction-dataset). \n",
    "\n",
    "For the purposes of this exercise, assume the observations are the result of random sampling from our single hospital. Recall that in the previous assignment, we introduced the Central Limit Theorem (CLT), and its consequence that the distributions of sample statistics approach a normal distribution as $n$ increases. The amazing thing about this is that it applies to the sampling distributions of statistics that have been calculated from even highly non-normal distributions of data! Recall, also, that hypothesis testing is very much based on making inferences about such sample statistics. You're going to rely heavily on the CLT to apply frequentist (parametric) tests to answer the questions in this notebook."
   ]
  },
  {
   "cell_type": "code",
   "execution_count": 23,
   "metadata": {},
   "outputs": [],
   "source": [
    "from scipy.stats import norm\n",
    "import pandas as pd\n",
    "import numpy as np\n",
    "import matplotlib.pyplot as plt #library for plots and visualizations\n",
    "#import seaborn as sns #library for visualizations\n",
    "import scipy.stats as stats\n",
    "from scipy.stats import t\n",
    "from numpy.random import seed\n",
    "medical = pd.read_csv('insurance2.csv')"
   ]
  },
  {
   "cell_type": "code",
   "execution_count": 24,
   "metadata": {},
   "outputs": [
    {
     "data": {
      "text/plain": [
       "(1338, 8)"
      ]
     },
     "execution_count": 24,
     "metadata": {},
     "output_type": "execute_result"
    }
   ],
   "source": [
    "medical.shape"
   ]
  },
  {
   "cell_type": "code",
   "execution_count": 25,
   "metadata": {},
   "outputs": [
    {
     "data": {
      "text/html": [
       "<div>\n",
       "<style scoped>\n",
       "    .dataframe tbody tr th:only-of-type {\n",
       "        vertical-align: middle;\n",
       "    }\n",
       "\n",
       "    .dataframe tbody tr th {\n",
       "        vertical-align: top;\n",
       "    }\n",
       "\n",
       "    .dataframe thead th {\n",
       "        text-align: right;\n",
       "    }\n",
       "</style>\n",
       "<table border=\"1\" class=\"dataframe\">\n",
       "  <thead>\n",
       "    <tr style=\"text-align: right;\">\n",
       "      <th></th>\n",
       "      <th>age</th>\n",
       "      <th>sex</th>\n",
       "      <th>bmi</th>\n",
       "      <th>children</th>\n",
       "      <th>smoker</th>\n",
       "      <th>region</th>\n",
       "      <th>charges</th>\n",
       "      <th>insuranceclaim</th>\n",
       "    </tr>\n",
       "  </thead>\n",
       "  <tbody>\n",
       "    <tr>\n",
       "      <th>0</th>\n",
       "      <td>19</td>\n",
       "      <td>0</td>\n",
       "      <td>27.900</td>\n",
       "      <td>0</td>\n",
       "      <td>1</td>\n",
       "      <td>3</td>\n",
       "      <td>16884.92400</td>\n",
       "      <td>1</td>\n",
       "    </tr>\n",
       "    <tr>\n",
       "      <th>1</th>\n",
       "      <td>18</td>\n",
       "      <td>1</td>\n",
       "      <td>33.770</td>\n",
       "      <td>1</td>\n",
       "      <td>0</td>\n",
       "      <td>2</td>\n",
       "      <td>1725.55230</td>\n",
       "      <td>1</td>\n",
       "    </tr>\n",
       "    <tr>\n",
       "      <th>2</th>\n",
       "      <td>28</td>\n",
       "      <td>1</td>\n",
       "      <td>33.000</td>\n",
       "      <td>3</td>\n",
       "      <td>0</td>\n",
       "      <td>2</td>\n",
       "      <td>4449.46200</td>\n",
       "      <td>0</td>\n",
       "    </tr>\n",
       "    <tr>\n",
       "      <th>3</th>\n",
       "      <td>33</td>\n",
       "      <td>1</td>\n",
       "      <td>22.705</td>\n",
       "      <td>0</td>\n",
       "      <td>0</td>\n",
       "      <td>1</td>\n",
       "      <td>21984.47061</td>\n",
       "      <td>0</td>\n",
       "    </tr>\n",
       "    <tr>\n",
       "      <th>4</th>\n",
       "      <td>32</td>\n",
       "      <td>1</td>\n",
       "      <td>28.880</td>\n",
       "      <td>0</td>\n",
       "      <td>0</td>\n",
       "      <td>1</td>\n",
       "      <td>3866.85520</td>\n",
       "      <td>1</td>\n",
       "    </tr>\n",
       "  </tbody>\n",
       "</table>\n",
       "</div>"
      ],
      "text/plain": [
       "   age  sex     bmi  children  smoker  region      charges  insuranceclaim\n",
       "0   19    0  27.900         0       1       3  16884.92400               1\n",
       "1   18    1  33.770         1       0       2   1725.55230               1\n",
       "2   28    1  33.000         3       0       2   4449.46200               0\n",
       "3   33    1  22.705         0       0       1  21984.47061               0\n",
       "4   32    1  28.880         0       0       1   3866.85520               1"
      ]
     },
     "execution_count": 25,
     "metadata": {},
     "output_type": "execute_result"
    }
   ],
   "source": [
    "medical.head()"
   ]
  },
  {
   "cell_type": "markdown",
   "metadata": {},
   "source": [
    "__Q1:__ Plot the histogram of charges and calculate the mean and standard deviation. Comment on the appropriateness of these statistics for the data."
   ]
  },
  {
   "cell_type": "markdown",
   "metadata": {},
   "source": [
    "__A:__ Looking at the histogram, the distribution does not appear to be a normal distribution. A majority of the medical charges seem to be within the \\\\$0 to \\\\$15,000 range. It seems we do have a few potential outliers at \\\\$60,000 as the data has a right skewed tail. Because the data is heavily right skewed, it makes more sense to use a median as it would not be as heavily affected by outliers. The standard deviation is not appropriate when the data has outliers or is heavily skewed."
   ]
  },
  {
   "cell_type": "code",
   "execution_count": 26,
   "metadata": {},
   "outputs": [
    {
     "data": {
      "image/png": "[encoded data removed]",
      "text/plain": [
       "<Figure size 432x288 with 1 Axes>"
      ]
     },
     "metadata": {
      "needs_background": "light"
     },
     "output_type": "display_data"
    }
   ],
   "source": [
    "_ = plt.hist(medical['charges'], bins=30)\n",
    "_ = plt.xlabel('medical charge amount')\n",
    "_ = plt.ylabel('number of people')\n",
    "_ = plt.title('Distribution of medical charges for a hospital')"
   ]
  },
  {
   "cell_type": "code",
   "execution_count": 27,
   "metadata": {},
   "outputs": [
    {
     "name": "stdout",
     "output_type": "stream",
     "text": [
      "Mean medical charge amount is: 13270.422265141257\n",
      "Sample Standard deviation medical charge is: 12105.484975561605\n"
     ]
    }
   ],
   "source": [
    "hospital_charges_mean = np.mean(medical['charges'])\n",
    "print('Mean medical charge amount is:', hospital_charges_mean)\n",
    "#we don't use ddof =1 for np.std here, since the sample is not the entire population\n",
    "#hospital_charges_std_pop = np.std(medical['charges'], ddof=1)\n",
    "#print('Population Standard deviation medical charge is:', hospital_charges_std_pop)\n",
    "hospital_charges_std = np.std(medical['charges'])\n",
    "print('Sample Standard deviation medical charge is:', hospital_charges_std)"
   ]
  },
  {
   "cell_type": "markdown",
   "metadata": {},
   "source": [
    "__Q2:__ The administrator is concerned that the actual average charge has fallen below 12,000, threatening the hospital's operational model. On the assumption that these data represent a random sample of charges, how would you justify that these data allow you to answer that question? And what would be the most appropriate frequentist test, of the ones discussed so far, to apply?"
   ]
  },
  {
   "cell_type": "markdown",
   "metadata": {},
   "source": [
    "__A:__ This frequentist test most appropriate for this situation would be using the margin of error and confidence interval since we dont know the true population mean. We would do a one mean hypothesis test, where we compare the medical charge data's true population mean to being a less than single number \\\\$12,000. In this scenario, a permutation test is not appropriate as we only have one set of data (medical charges). We would take the mean as our test statistic, and use the resampling technique bootstrapping to generate an array of average medical charges. With knowledge about the Central Limit Theoream, despite knowing tha the sample's distribution is non-normal (it's actually right tailed/skewed); the distribution of the sampling mean will be a normal distribution with a sample size larger than 30. Once the bootstrapped data is generated, we can calculate the sample mean. Based on our confidence interval, and knowing that we framed out null hypothesis, we want a z-score, or critical value, that is one tailed. We are unaware at this time of the sample's true population standard deviation so we can calculate the margin of error using the formul: Margin of error = (critical value) * (standard error), where standard error is the standard deviation of the sample divided by the square root of the sample size.With this we can generate our confidence interval to figure out whether our null is rejected or not-rejected.  \n"
   ]
  },
  {
   "cell_type": "markdown",
   "metadata": {},
   "source": [
    "__Q3:__ Given the nature of the administrator's concern, what is the appropriate confidence interval in this case? A ***one-sided*** or ***two-sided*** interval? (Refresh your understanding of this concept on p. 399 of the *AoS*). Calculate the critical value and the relevant 95% confidence interval for the mean, and comment on whether the administrator should be concerned."
   ]
  },
  {
   "cell_type": "markdown",
   "metadata": {},
   "source": [
    "__A:__ The appropriate confidence interval in this case would be 95% and one-sided, due to how we framed our null-hypothesis: the true population mean for medical charges is greater than or equal to \\\\$12,000. \n",
    "\n",
    "From the calculated p-value that the bootstrap replicate of the medical charges being less than \\\\$12,000 is 0.0001, it's statistically significant that the null hypothesis false. The administrator should not be concerned. The 95% confidence interval for the mean medical charge is \\\\$13265 to \\\\$13269. "
   ]
  },
  {
   "cell_type": "code",
   "execution_count": 28,
   "metadata": {},
   "outputs": [],
   "source": [
    "med_charges = medical['charges']"
   ]
  },
  {
   "cell_type": "code",
   "execution_count": 29,
   "metadata": {},
   "outputs": [],
   "source": [
    "def bootstrap_replicate_1d(data, func):\n",
    "    \"Generate bootstrap replicate of 1D data.\"\n",
    "    bs_sample = np.random.choice(data, len(data))\n",
    "    return func(bs_sample)\n",
    "\n",
    "#this function generates 1 boot strap replicate"
   ]
  },
  {
   "cell_type": "code",
   "execution_count": 30,
   "metadata": {},
   "outputs": [],
   "source": [
    "def draw_bs_reps(data, func, size=1):\n",
    "    \"Draw boostrap replicates.\"\n",
    "    \n",
    "    #initialize array of replicates\n",
    "    bs_replicates = np.empty(size)\n",
    "    \n",
    "    #Generate replicates\n",
    "    for i in range(size):\n",
    "        bs_replicates[i] = bootstrap_replicate_1d(data, func)\n",
    "    \n",
    "    return bs_replicates\n",
    "\n",
    "#this function generates bootstrap replicate array which can be plotted via histogram\n",
    "#to show the Probability Density Function\n",
    "    \n",
    "    "
   ]
  },
  {
   "cell_type": "code",
   "execution_count": 31,
   "metadata": {},
   "outputs": [],
   "source": [
    "seed(42)\n",
    "#array with 1000 values, where each value is the mean from a resampling of the \n",
    "#medical charges with bootstrapping as the method\n",
    "bs_replicates = draw_bs_reps(medical['charges'], np.mean, 10000)"
   ]
  },
  {
   "cell_type": "code",
   "execution_count": 32,
   "metadata": {},
   "outputs": [
    {
     "data": {
      "image/png": "[encoded data removed]",
      "text/plain": [
       "<Figure size 432x288 with 1 Axes>"
      ]
     },
     "metadata": {
      "needs_background": "light"
     },
     "output_type": "display_data"
    }
   ],
   "source": [
    "#plotting the distribution of the bootstrap replicates of the medical\n",
    "#charges.\n",
    "_ = plt.hist(bs_replicates, bins=50)\n",
    "_ = plt.xlabel('mean medical charges')\n",
    "_ = plt.ylabel('number of occurences')\n",
    "_ = plt.title('Distribution of the mean medical charges over 1000 resamples')"
   ]
  },
  {
   "cell_type": "code",
   "execution_count": 33,
   "metadata": {},
   "outputs": [
    {
     "name": "stdout",
     "output_type": "stream",
     "text": [
      "Estimated sample standard deviation of the mean medical charges is: 330.12331276468353\n"
     ]
    }
   ],
   "source": [
    "#calculating the sample standard deviation of the sample replicates: mean of\n",
    "#medical charges\n",
    "bs_replicates_stdev = np.std(bs_replicates, ddof=1)\n",
    "print('Estimated sample standard deviation of the mean medical charges is:', bs_replicates_stdev)"
   ]
  },
  {
   "cell_type": "code",
   "execution_count": 34,
   "metadata": {},
   "outputs": [
    {
     "name": "stdout",
     "output_type": "stream",
     "text": [
      "Margin of error: +/- 5.430045283422249\n"
     ]
    }
   ],
   "source": [
    "#calculating the margin of error\n",
    "margin_of_error = norm.ppf(0.95)*(bs_replicates_stdev)/(np.sqrt(len(bs_replicates)))\n",
    "print('Margin of error: +/-', margin_of_error)"
   ]
  },
  {
   "cell_type": "code",
   "execution_count": 35,
   "metadata": {},
   "outputs": [
    {
     "name": "stdout",
     "output_type": "stream",
     "text": [
      "95% Confidence interval of the mean: 13262.18098947887 , 13273.041080045712\n"
     ]
    }
   ],
   "source": [
    "#calculating the 95% confidence interval\n",
    "conf_interval_bottom = np.mean(bs_replicates) - margin_of_error\n",
    "conf_interval_top = np.mean(bs_replicates) + margin_of_error\n",
    "print('95% Confidence interval of the mean:', conf_interval_bottom, ',', conf_interval_top)"
   ]
  },
  {
   "cell_type": "markdown",
   "metadata": {},
   "source": [
    "The administrator then wants to know whether people with insurance really are charged a different amount to those without.\n",
    "\n",
    "__Q4:__ State the null and alternative hypothesis here. Use the _t_-test for the difference between means, where the pooled standard deviation of the two groups is given by:\n",
    "\\begin{equation}\n",
    "s_p = \\sqrt{\\frac{(n_0 - 1)s^2_0 + (n_1 - 1)s^2_1}{n_0 + n_1 - 2}}\n",
    "\\end{equation}\n",
    "\n",
    "and the *t*-test statistic is then given by:\n",
    "\n",
    "\\begin{equation}\n",
    "t = \\frac{\\bar{x}_0 - \\bar{x}_1}{s_p \\sqrt{1/n_0 + 1/n_1}}.\n",
    "\\end{equation}\n",
    "\n",
    "(If you need some reminding of the general definition of ***t-statistic***, check out the definition on p. 404 of *AoS*). \n",
    "\n",
    "What assumption about the variances of the two groups are we making here?"
   ]
  },
  {
   "cell_type": "markdown",
   "metadata": {},
   "source": [
    "__A:__ \n",
    "\n",
    "Null Hypothesis: H0 = mean charge of insured = mean charge of non-insured\n",
    "\n",
    "Alternative hypohesis: H1 = mean charge of insured =! mean charge of non-insured\n",
    "\n",
    "We are making the assumption that both groups have an equal population variance."
   ]
  },
  {
   "cell_type": "markdown",
   "metadata": {},
   "source": [
    "__Q5:__ Perform this hypothesis test both manually, using the above formulae, and then using the appropriate function from [scipy.stats](https://docs.scipy.org/doc/scipy/reference/stats.html#statistical-tests) (hint, you're looking for a function to perform a _t_-test on two independent samples). For the manual approach, calculate the value of the test statistic and then its probability (the p-value). Verify you get the same results from both."
   ]
  },
  {
   "cell_type": "markdown",
   "metadata": {},
   "source": [
    "__A:__  \n",
    "It's verified that we get essentially the same results from the manual and scipy.stats.t function to calculate the t value and the p-value. In both cases, we get a t-value that is ~11.89 and a p-value that is 4e-31, or approximately 0. With such a small p-value, the null hypothesis is rejected as the probability of the null occuring is less than 0.05 or even 0.01. The alternative hypothesis is most likely true indicating that mean charge of the insured group is not the same as those not-insured."
   ]
  },
  {
   "cell_type": "code",
   "execution_count": 36,
   "metadata": {},
   "outputs": [
    {
     "name": "stdout",
     "output_type": "stream",
     "text": [
      "0       16884.92400\n",
      "1        1725.55230\n",
      "4        3866.85520\n",
      "6        8240.58960\n",
      "10       2721.32080\n",
      "           ...     \n",
      "1330    12629.16560\n",
      "1331    10795.93733\n",
      "1334     2205.98080\n",
      "1335     1629.83350\n",
      "1337    29141.36030\n",
      "Name: charges, Length: 783, dtype: float64\n"
     ]
    }
   ],
   "source": [
    "#using series \"insured\" to subet medical df for all data, where insuranceclaim == True == 1\n",
    "#patients_insured = medical[insured == True]\n",
    "#same as above, but now specified particular column of interest, \"charges\"\n",
    "patients_insured = medical[medical[\"insuranceclaim\"] == True]['charges']\n",
    "print(patients_insured)"
   ]
  },
  {
   "cell_type": "code",
   "execution_count": 37,
   "metadata": {},
   "outputs": [
    {
     "name": "stdout",
     "output_type": "stream",
     "text": [
      "2        4449.46200\n",
      "3       21984.47061\n",
      "5        3756.62160\n",
      "7        7281.50560\n",
      "8        6406.41070\n",
      "           ...     \n",
      "1324     4239.89265\n",
      "1328    22395.74424\n",
      "1332    11411.68500\n",
      "1333    10600.54830\n",
      "1336     2007.94500\n",
      "Name: charges, Length: 555, dtype: float64\n"
     ]
    }
   ],
   "source": [
    "patients_uninsured = medical[medical[\"insuranceclaim\"] == False]['charges']\n",
    "print(patients_uninsured)"
   ]
  },
  {
   "cell_type": "code",
   "execution_count": 38,
   "metadata": {},
   "outputs": [
    {
     "name": "stdout",
     "output_type": "stream",
     "text": [
      "insured sample count (n0): 783\n"
     ]
    }
   ],
   "source": [
    "#defining n0 as insured patients number of observations\n",
    "n0 = len(patients_insured)\n",
    "print(\"insured sample count (n0):\", n0)"
   ]
  },
  {
   "cell_type": "code",
   "execution_count": 39,
   "metadata": {},
   "outputs": [
    {
     "name": "stdout",
     "output_type": "stream",
     "text": [
      "uninsured sample count (n1): 555\n"
     ]
    }
   ],
   "source": [
    "#defining n1 as uninsured patients number of observations\n",
    "n1 = len(patients_uninsured)\n",
    "print(\"uninsured sample count (n1):\", n1)"
   ]
  },
  {
   "cell_type": "code",
   "execution_count": 40,
   "metadata": {},
   "outputs": [
    {
     "name": "stdout",
     "output_type": "stream",
     "text": [
      "insured sample mean (x0): 16423.928276537663\n"
     ]
    }
   ],
   "source": [
    "#defining x0 as insured patients mean sample charge\n",
    "x0 = np.mean(patients_insured)\n",
    "print(\"insured sample mean (x0):\", x0)"
   ]
  },
  {
   "cell_type": "code",
   "execution_count": 41,
   "metadata": {},
   "outputs": [
    {
     "name": "stdout",
     "output_type": "stream",
     "text": [
      "uninsured sample mean (x1): 8821.421892306294\n"
     ]
    }
   ],
   "source": [
    "#defining x1 as uninsured patients mean sample charge\n",
    "x1 = np.mean(patients_uninsured)\n",
    "print(\"uninsured sample mean (x1):\", x1)"
   ]
  },
  {
   "cell_type": "code",
   "execution_count": 42,
   "metadata": {
    "scrolled": true
   },
   "outputs": [
    {
     "name": "stdout",
     "output_type": "stream",
     "text": [
      "insured patient charges std: 14045.928418802127\n"
     ]
    }
   ],
   "source": [
    "#defining s0 as insured patients standard deviation of charges\n",
    "s0 = np.std(patients_insured, ddof = 1)\n",
    "print(\"insured patient charges std:\", s0)"
   ]
  },
  {
   "cell_type": "code",
   "execution_count": 43,
   "metadata": {},
   "outputs": [
    {
     "name": "stdout",
     "output_type": "stream",
     "text": [
      "uninsured patient charges std: 6446.510126811736\n"
     ]
    }
   ],
   "source": [
    "#defining s1 as uninsured patients standard deviation of charges\n",
    "s1 = np.std(patients_uninsured, ddof = 1)\n",
    "print(\"uninsured patient charges std:\", s1)"
   ]
  },
  {
   "cell_type": "code",
   "execution_count": 44,
   "metadata": {},
   "outputs": [
    {
     "name": "stdout",
     "output_type": "stream",
     "text": [
      "197036140.77172482\n"
     ]
    }
   ],
   "source": [
    "#checking variances for insured and uninsured patient charges\n",
    "#var0 is insured patient charges variance\n",
    "var0 = np.var(patients_insured)\n",
    "print(var0)"
   ]
  },
  {
   "cell_type": "code",
   "execution_count": 45,
   "metadata": {},
   "outputs": [
    {
     "name": "stdout",
     "output_type": "stream",
     "text": [
      "41482614.44965368\n"
     ]
    }
   ],
   "source": [
    "#var2 is uninsured patient charges variance\n",
    "var1 = np.var(patients_uninsured)\n",
    "print(var1)"
   ]
  },
  {
   "cell_type": "code",
   "execution_count": 46,
   "metadata": {},
   "outputs": [
    {
     "name": "stdout",
     "output_type": "stream",
     "text": [
      "4.749848662765994\n"
     ]
    }
   ],
   "source": [
    "print(var0/var1)"
   ]
  },
  {
   "cell_type": "code",
   "execution_count": 48,
   "metadata": {},
   "outputs": [
    {
     "name": "stdout",
     "output_type": "stream",
     "text": [
      "pooled standard deviation of insured and uninsured patient charges charges: 11512.282899205744\n"
     ]
    }
   ],
   "source": [
    "#defining sp as pooled standard deviation of both insured and uninsured patient charges\n",
    "sp = np.sqrt(((n0-1)*var0 + (n1-1)*var1)/(n0 + n1 - 2))\n",
    "print(\"pooled standard deviation of insured and uninsured patient charges charges:\", sp)"
   ]
  },
  {
   "cell_type": "code",
   "execution_count": 49,
   "metadata": {
    "scrolled": false
   },
   "outputs": [
    {
     "name": "stdout",
     "output_type": "stream",
     "text": [
      "t_stat_manual: 11.901306943555385\n"
     ]
    }
   ],
   "source": [
    "#define t_stat_manual as test statistic for two means\n",
    "t_stat_manual = (x0 - x1)/(sp*(np.sqrt((1/n0) + (1/n1))))\n",
    "print(\"t_stat_manual:\", t_stat_manual)"
   ]
  },
  {
   "cell_type": "code",
   "execution_count": 50,
   "metadata": {},
   "outputs": [
    {
     "name": "stdout",
     "output_type": "stream",
     "text": [
      "p_value_manual from t_stat_manual: 2.0452751071868976e-31\n"
     ]
    }
   ],
   "source": [
    "#define p_value_manual as p-value from manual calculation of test statistic\n",
    "#in this case the alternative hypothesis is for a not-equal type problem\n",
    "#this not equal type problem means that it's a 2 tailed test, and not one\n",
    "#so the p-value generated from this is the area of just one side, so we\n",
    "#need to double it, in order to get the correct p-value ~4e-31\n",
    "\n",
    "p_value_manual = t.sf(t_stat_manual, n0 + n1 - 2)\n",
    "print(\"p_value_manual from t_stat_manual:\", 2*p_value_manual)"
   ]
  },
  {
   "cell_type": "code",
   "execution_count": 51,
   "metadata": {},
   "outputs": [
    {
     "name": "stdout",
     "output_type": "stream",
     "text": [
      "Ttest_indResult(statistic=11.893299030876712, pvalue=4.461230231620717e-31)\n"
     ]
    }
   ],
   "source": [
    "#define t_stat as test statistic calculation using scipy stat's library method \n",
    "t_stat = stats.ttest_ind(patients_insured, patients_uninsured, equal_var = True)\n",
    "print(t_stat)"
   ]
  },
  {
   "cell_type": "markdown",
   "metadata": {},
   "source": [
    "Congratulations! Hopefully you got the exact same numerical results. This shows that you correctly calculated the numbers by hand. Secondly, you used the correct function and saw that it's much easier to use. All you need to do is pass your data to it."
   ]
  },
  {
   "cell_type": "markdown",
   "metadata": {},
   "source": [
    "__Q6:__ Conceptual question: look through the documentation for statistical test functions in scipy.stats. You'll see the above _t_-test for a sample, but can you see an equivalent one for performing a *z*-test from a sample? Comment on your answer."
   ]
  },
  {
   "cell_type": "markdown",
   "metadata": {},
   "source": [
    "__A:__ The comparable version of the t-test sample for a normal distribution using the z-test would be to use: norm.sf(x, loc=0, scale = 1), where we'd adjust the location for the population mean and the scale for the population standard deviation."
   ]
  },
  {
   "cell_type": "markdown",
   "metadata": {},
   "source": [
    "## Learning outcomes"
   ]
  },
  {
   "cell_type": "markdown",
   "metadata": {},
   "source": [
    "Having completed this project notebook, you now have good hands-on experience:\n",
    "* using the central limit theorem to help you apply frequentist techniques to answer questions that pertain to very non-normally distributed data from the real world\n",
    "* performing inference using such data to answer business questions\n",
    "* forming a hypothesis and framing the null and alternative hypotheses\n",
    "* testing this using a _t_-test"
   ]
  }
 ],
 "metadata": {
  "kernelspec": {
   "display_name": "Python 3",
   "language": "python",
   "name": "python3"
  },
  "language_info": {
   "codemirror_mode": {
    "name": "ipython",
    "version": 3
   },
   "file_extension": ".py",
   "mimetype": "text/x-python",
   "name": "python",
   "nbconvert_exporter": "python",
   "pygments_lexer": "ipython3",
   "version": "3.8.5"
  }
 },
 "nbformat": 4,
 "nbformat_minor": 2
}
